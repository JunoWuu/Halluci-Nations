{
 "cells": [
  {
   "cell_type": "code",
   "execution_count": 36,
   "id": "e3537bb0-c693-4da5-94e0-d1d65b51dc0c",
   "metadata": {
    "tags": []
   },
   "outputs": [],
   "source": [
    "import os\n",
    "import numpy as np\n",
    "import pandas as pd \n",
    "import matplotlib.pyplot as plt\n",
    "import seaborn as sns\n",
    "import pickle\n",
    "from tqdm import tqdm \n",
    "from collections import defaultdict\n",
    "import random"
   ]
  },
  {
   "cell_type": "code",
   "execution_count": 7,
   "id": "41be4e0d-2290-4d2e-81ea-12095c2a09fe",
   "metadata": {
    "tags": []
   },
   "outputs": [],
   "source": [
    "main_path = '/scratch/'\n",
    "epochs_path = '/scratch/RFMapping_2/'\n",
    "fr_path = '/scratch/RFMapping_2/firing_rate2/'\n",
    "trial_path = os.path.join(epochs_path,'trial_info.csv')\n",
    "data_path = os.path.join(main_path,'data.pkl')\n",
    "df_trials = pd.read_csv(trial_path,index_col='Unnamed: 0')\n",
    "df_data = pd.read_pickle(data_path)"
   ]
  },
  {
   "cell_type": "code",
   "execution_count": 17,
   "id": "138988b6-b159-400a-a79a-683cb9eccebe",
   "metadata": {
    "tags": []
   },
   "outputs": [],
   "source": [
    "cell_labels = df_data.cell_type.values\n",
    "region_labels = df_data.region.values\n",
    "layer_labels = df_data.layer.values"
   ]
  },
  {
   "cell_type": "code",
   "execution_count": 24,
   "id": "5891f8d9-5569-410b-8bf6-93a40a0f67bd",
   "metadata": {
    "tags": []
   },
   "outputs": [],
   "source": [
    "sr_path = os.path.join(epochs_path,'firing_rates.pkl')\n",
    "fr_data =pickle.load(open(sr_path, 'rb'))"
   ]
  },
  {
   "cell_type": "code",
   "execution_count": 30,
   "id": "8738a8df-8ff4-4576-9e1e-c8466002aa57",
   "metadata": {
    "tags": []
   },
   "outputs": [],
   "source": [
    "def group_by_constant_elements(data, constant_indices=(1, 2)):\n",
    "    \"\"\"\n",
    "    Group tuples by constant elements at specified indices.\n",
    "    \n",
    "    Args:\n",
    "        data: List of tuples\n",
    "        constant_indices: Tuple of indices that should be constant (default: (1, 2))\n",
    "    \n",
    "    Returns:\n",
    "        Dictionary where keys are the constant values and values are lists of tuples\n",
    "    \"\"\"\n",
    "    groups = defaultdict(list)\n",
    "    \n",
    "    for item in data:\n",
    "        # Create key from constant elements\n",
    "        key = tuple(item[i] for i in constant_indices)\n",
    "        groups[key].append(item)\n",
    "    \n",
    "    return dict(groups)\n",
    "\n",
    "def subsample_groups(grouped_data, sample_size=None, sample_fraction=None, random_seed=42):\n",
    "    \"\"\"\n",
    "    Subsample each group independently.\n",
    "    \n",
    "    Args:\n",
    "        grouped_data: Dictionary from group_by_constant_elements\n",
    "        sample_size: Fixed number to sample from each group (or None)\n",
    "        sample_fraction: Fraction to sample from each group (0-1, or None)\n",
    "        random_seed: Random seed for reproducibility\n",
    "    \n",
    "    Returns:\n",
    "        Dictionary with same keys but subsampled values\n",
    "    \"\"\"\n",
    "    if sample_size is None and sample_fraction is None:\n",
    "        raise ValueError(\"Either sample_size or sample_fraction must be specified\")\n",
    "    \n",
    "    random.seed(random_seed)\n",
    "    subsampled = {}\n",
    "    \n",
    "    for key, items in grouped_data.items():\n",
    "        if sample_size is not None:\n",
    "            # Sample fixed number\n",
    "            n_samples = min(sample_size, len(items))\n",
    "        else:\n",
    "            # Sample fraction\n",
    "            n_samples = max(1, int(len(items) * sample_fraction))\n",
    "        \n",
    "        subsampled[key] = random.sample(items, n_samples)\n",
    "    \n",
    "    return subsampled\n"
   ]
  },
  {
   "cell_type": "code",
   "execution_count": 33,
   "id": "919f2e63-fa4d-47b7-9718-87f76375f971",
   "metadata": {
    "tags": []
   },
   "outputs": [],
   "source": [
    "groups = group_by_constant_elements(fr_data)"
   ]
  },
  {
   "cell_type": "code",
   "execution_count": 35,
   "id": "714f2773-2b86-4e97-a0f9-b2bbae7b9357",
   "metadata": {
    "tags": []
   },
   "outputs": [
    {
     "ename": "NameError",
     "evalue": "name 'random' is not defined",
     "output_type": "error",
     "traceback": [
      "\u001b[0;31m---------------------------------------------------------------------------\u001b[0m",
      "\u001b[0;31mNameError\u001b[0m                                 Traceback (most recent call last)",
      "Cell \u001b[0;32mIn[35], line 1\u001b[0m\n\u001b[0;32m----> 1\u001b[0m subsampled_fixed \u001b[38;5;241m=\u001b[39m \u001b[43msubsample_groups\u001b[49m\u001b[43m(\u001b[49m\u001b[43mgroups\u001b[49m\u001b[43m,\u001b[49m\u001b[43m \u001b[49m\u001b[43msample_size\u001b[49m\u001b[38;5;241;43m=\u001b[39;49m\u001b[38;5;241;43m2\u001b[39;49m\u001b[43m)\u001b[49m\n",
      "Cell \u001b[0;32mIn[30], line 37\u001b[0m, in \u001b[0;36msubsample_groups\u001b[0;34m(grouped_data, sample_size, sample_fraction, random_seed)\u001b[0m\n\u001b[1;32m     34\u001b[0m \u001b[38;5;28;01mif\u001b[39;00m sample_size \u001b[38;5;129;01mis\u001b[39;00m \u001b[38;5;28;01mNone\u001b[39;00m \u001b[38;5;129;01mand\u001b[39;00m sample_fraction \u001b[38;5;129;01mis\u001b[39;00m \u001b[38;5;28;01mNone\u001b[39;00m:\n\u001b[1;32m     35\u001b[0m     \u001b[38;5;28;01mraise\u001b[39;00m \u001b[38;5;167;01mValueError\u001b[39;00m(\u001b[38;5;124m\"\u001b[39m\u001b[38;5;124mEither sample_size or sample_fraction must be specified\u001b[39m\u001b[38;5;124m\"\u001b[39m)\n\u001b[0;32m---> 37\u001b[0m \u001b[43mrandom\u001b[49m\u001b[38;5;241m.\u001b[39mseed(random_seed)\n\u001b[1;32m     38\u001b[0m subsampled \u001b[38;5;241m=\u001b[39m {}\n\u001b[1;32m     40\u001b[0m \u001b[38;5;28;01mfor\u001b[39;00m key, items \u001b[38;5;129;01min\u001b[39;00m grouped_data\u001b[38;5;241m.\u001b[39mitems():\n",
      "\u001b[0;31mNameError\u001b[0m: name 'random' is not defined"
     ]
    }
   ],
   "source": [
    "subsampled_fixed = subsample_groups(groups, sample_size=2)"
   ]
  },
  {
   "cell_type": "code",
   "execution_count": null,
   "id": "fbf59cdd-cc55-40c2-bff6-b92275466deb",
   "metadata": {},
   "outputs": [],
   "source": []
  },
  {
   "cell_type": "code",
   "execution_count": null,
   "id": "6532f7a6-4c32-4865-92c2-8bea80fcfd42",
   "metadata": {},
   "outputs": [],
   "source": []
  },
  {
   "cell_type": "code",
   "execution_count": null,
   "id": "7ddfe688-5287-4858-b990-b73d982b367e",
   "metadata": {},
   "outputs": [],
   "source": []
  },
  {
   "cell_type": "code",
   "execution_count": null,
   "id": "4830e3bb-410b-4759-9c44-e6ada96b0b13",
   "metadata": {},
   "outputs": [],
   "source": []
  }
 ],
 "metadata": {
  "kernelspec": {
   "display_name": "Python 3 (ipykernel)",
   "language": "python",
   "name": "python3"
  },
  "language_info": {
   "codemirror_mode": {
    "name": "ipython",
    "version": 3
   },
   "file_extension": ".py",
   "mimetype": "text/x-python",
   "name": "python",
   "nbconvert_exporter": "python",
   "pygments_lexer": "ipython3",
   "version": "3.10.12"
  }
 },
 "nbformat": 4,
 "nbformat_minor": 5
}
