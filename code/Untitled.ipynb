{
 "cells": [
  {
   "cell_type": "code",
   "execution_count": 13,
   "id": "e3537bb0-c693-4da5-94e0-d1d65b51dc0c",
   "metadata": {
    "tags": []
   },
   "outputs": [],
   "source": [
    "import os\n",
    "import numpy as np\n",
    "import pandas as pd \n",
    "import matplotlib.pyplot as plt\n",
    "import seaborn as sns\n",
    "import pickle\n",
    "from tqdm import tqdm \n",
    "from collections import defaultdict\n",
    "import sr_processing as sr"
   ]
  },
  {
   "cell_type": "code",
   "execution_count": 48,
   "id": "71a695fe-825c-48d2-87b4-25c7cf5dbafd",
   "metadata": {
    "tags": []
   },
   "outputs": [],
   "source": [
    "class swdb_sr_hu:\n",
    "    def __init__(self,main_path):\n",
    "        self.main_path = main_path\n",
    "        self.df_data = pd.read_pickle(os.path.join(main_path,'data.pkl'))\n",
    "        self.cell_labels = self.df_data.cell_type.values\n",
    "        self.region_labels = self.df_data.region.values\n",
    "        self.layer_labels = df_data.layer.values\n",
    "    def load_vis_epochs(self,vis_epochs):\n",
    "        self.epoch_paths = [os.path.join(self.main_path,ep) for ep in vis_epochs]\n",
    "        self.trial_info = {ep: pd.read_csv(os.path.join(ep_path,'trial_info.csv')) for\n",
    "                         ep,ep_path in zip(vis_epochs,self.epoch_paths)}\n",
    "        self.trial_dic = {ep: sr.get_index_maps(self.trial_info[ep]) for ep in\n",
    "                         vis_epochs}\n",
    "        return\n",
    "    def get_vis_epochs_keys(self):\n",
    "        k_s1 = list(test_session.trial_dic['RFMapping_0'].keys())\n",
    "        k_s2 = list(test_session.trial_dic['RFMapping_1'].keys())\n",
    "        k_s3 = list(test_session.trial_dic['RFMapping_2'].keys())\n",
    "        if set(k_s1) == set(k_s2) == set(k_s3):\n",
    "            self.trial_types = k_s1\n",
    "        else:\n",
    "            print('Trial types do not match across trials')\n",
    "    def load_trial(self, )"
   ]
  },
  {
   "cell_type": "code",
   "execution_count": 49,
   "id": "efdd7c36-a784-40b0-8417-7c0e09bfe2d7",
   "metadata": {
    "tags": []
   },
   "outputs": [],
   "source": [
    "test_session = swdb_sr_hu('/scratch')\n",
    "vis_epochs = ['RFMapping_0','RFMapping_1','RFMapping_2']\n",
    "test_session.load_vis_epochs(vis_epochs)"
   ]
  },
  {
   "cell_type": "code",
   "execution_count": 50,
   "id": "591d92ef-208f-4774-90f7-1e0dab97ec9f",
   "metadata": {},
   "outputs": [],
   "source": [
    "test_session.get_vis_epochs_keys()"
   ]
  },
  {
   "cell_type": "code",
   "execution_count": 53,
   "id": "d33b7ebc-f49c-4821-96bb-4150f8f3d226",
   "metadata": {
    "tags": []
   },
   "outputs": [
    {
     "data": {
      "text/plain": [
       "True"
      ]
     },
     "execution_count": 53,
     "metadata": {},
     "output_type": "execute_result"
    }
   ],
   "source": [
    "\n",
    "trials2load = test_session.trial_dic\n",
    "(7777,7777,7777)"
   ]
  },
  {
   "cell_type": "code",
   "execution_count": 59,
   "id": "367abf91-04f0-4718-8410-eec8a1bd99bb",
   "metadata": {
    "tags": []
   },
   "outputs": [],
   "source": [
    "trial_type = (7777,7777,7777)"
   ]
  },
  {
   "cell_type": "code",
   "execution_count": 60,
   "id": "63718442-5d1f-4e57-9fe8-cb6005af553d",
   "metadata": {},
   "outputs": [],
   "source": [
    "trials_interest = {i:v[trial_type] for i,v in test_session.trial_dic.items()}"
   ]
  },
  {
   "cell_type": "code",
   "execution_count": null,
   "id": "079d07ad-daaf-4bc2-8d07-5361f7ab9f3c",
   "metadata": {
    "tags": []
   },
   "outputs": [],
   "source": [
    "() if len(v) > 1}\n",
    "results = find_varying_x(results_dic)\n"
   ]
  },
  {
   "cell_type": "code",
   "execution_count": null,
   "id": "b14e232d-c227-4b06-b6d6-49533e1373d8",
   "metadata": {},
   "outputs": [],
   "source": [
    "k_s1 = list(test_session.trial_dic['RFMapping_0'].keys())\n",
    "k_s2 = list(test_session.trial_dic['RFMapping_1'].keys())\n",
    "k_s3 = list(test_session.trial_dic['RFMapping_2'].keys())"
   ]
  },
  {
   "cell_type": "code",
   "execution_count": null,
   "id": "ba4997e4-efae-4080-be39-82828697a2a2",
   "metadata": {},
   "outputs": [],
   "source": [
    "result = find_varying_x(results_dic)\n",
    "test = [results[i] for i in results.keys()]\n",
    "im2plot[0].shape"
   ]
  },
  {
   "cell_type": "code",
   "execution_count": null,
   "id": "ec01766a-5e71-4934-bfb2-b06c92a95d20",
   "metadata": {},
   "outputs": [],
   "source": []
  },
  {
   "cell_type": "code",
   "execution_count": null,
   "id": "748501f8-7226-4262-8279-84456b522b3e",
   "metadata": {},
   "outputs": [],
   "source": []
  },
  {
   "cell_type": "code",
   "execution_count": null,
   "id": "81e41b6b-02e0-49d1-8da7-a23b783a8d55",
   "metadata": {},
   "outputs": [],
   "source": []
  },
  {
   "cell_type": "code",
   "execution_count": null,
   "id": "53d7423c-5bb4-4110-93d0-618a748afd89",
   "metadata": {},
   "outputs": [],
   "source": [
    "sorted_indices = np.argsort(layers)\n",
    "sorted_layers = layers[sorted_indices]\n",
    "fr_matrix_sorted = fr_matrix[sorted_indices]"
   ]
  },
  {
   "cell_type": "code",
   "execution_count": 30,
   "id": "5a3d255b-314f-4bba-b796-5860082d4aa5",
   "metadata": {
    "tags": []
   },
   "outputs": [],
   "source": []
  },
  {
   "cell_type": "code",
   "execution_count": 31,
   "id": "a0ab2995-4ae7-4748-b0ca-5b9922a91ceb",
   "metadata": {
    "tags": []
   },
   "outputs": [],
   "source": [
    "vis_epochs = ['RFMapping_0','RFMapping_1','RFMapping_2']\n",
    "test_session.load_vis_epochs(vis_epochs)"
   ]
  },
  {
   "cell_type": "code",
   "execution_count": 32,
   "id": "f6f73b8c-b0c3-4e7a-b8c3-1ec61004160d",
   "metadata": {
    "tags": []
   },
   "outputs": [
    {
     "data": {
      "text/plain": [
       "dict_keys(['RFMapping_0', 'RFMapping_1', 'RFMapping_2'])"
      ]
     },
     "execution_count": 32,
     "metadata": {},
     "output_type": "execute_result"
    }
   ],
   "source": [
    "test_session.trial_dic.keys()"
   ]
  },
  {
   "cell_type": "code",
   "execution_count": null,
   "id": "1d79d8ab-fd6f-4cfc-97f8-353f12379c5a",
   "metadata": {},
   "outputs": [],
   "source": [
    "test_keys"
   ]
  },
  {
   "cell_type": "code",
   "execution_count": null,
   "id": "6038ae16-d357-4e32-a406-80b409e1a10c",
   "metadata": {},
   "outputs": [],
   "source": [
    "layers = []\n",
    "for unit_idx in range(len(analysis_table)):\n",
    "    spike_times = analysis_table.iloc[unit_idx]['Spontaneous_0_spikes']\n",
    "    if spike_times is None or len(spike_times) == 0:\n",
    "        continue\n",
    "    layers.append(analysis_table.iloc[unit_idx]['layer'])\n",
    "layers = np.array(layers)\n",
    "fr_matrix = firing_rate_matrix_spon0.copy()\n",
    "# 2. Sort neurons by layer\n",
    "sorted_indices = np.argsort(layers)\n",
    "sorted_layers = layers[sorted_indices]\n",
    "fr_matrix_sorted = fr_matrix[sorted_indices]\n",
    "# 3. Compute correlation matrix\n",
    "corr_matrix = np.corrcoef(fr_matrix_sorted)\n",
    "# 4. Plot\n",
    "plt.figure(figsize=(10, 8))\n",
    "sns.heatmap(corr_matrix, cmap='vlag', center=0, square=True, xticklabels=False, yticklabels=False)\n",
    "plt.title(\"Neuron × Neuron Correlation (Grouped by Layer)\", fontsize=14)\n",
    "# 5. Optionally draw lines to show layer boundaries\n",
    "unique_layers, counts = np.unique(sorted_layers, return_counts=True)\n",
    "layer_boundaries = np.cumsum(counts)\n",
    "# Draw horizontal and vertical lines to separate layers\n",
    "for boundary in layer_boundaries[:-1]:\n",
    "    plt.axhline(boundary, color='gray', linestyle='--', linewidth=0.5)\n",
    "    plt.axvline(boundary, color='gray', linestyle='--', linewidth=0.5)\n",
    "# 6. Compute tick positions (center of each group)\n",
    "tick_positions = layer_boundaries - counts // 2\n",
    "# :white_check_mark: Fix: Make sure tick_positions and labels match in length\n",
    "assert len(tick_positions) == len(unique_layers)\n",
    "# Add layer labels\n",
    "plt.yticks(tick_positions, unique_layers, fontsize=10)\n",
    "plt.xticks(tick_positions, unique_layers, fontsize=10, rotation=90)\n",
    "plt.tight_layout()\n",
    "plt.show()"
   ]
  },
  {
   "cell_type": "code",
   "execution_count": null,
   "id": "3c8de9ac-6117-4ac2-8288-7154fe5ba6e4",
   "metadata": {},
   "outputs": [],
   "source": []
  },
  {
   "cell_type": "code",
   "execution_count": null,
   "id": "865ca1ac-ff1b-4e4d-ac66-2584c2704ec4",
   "metadata": {},
   "outputs": [],
   "source": []
  },
  {
   "cell_type": "code",
   "execution_count": null,
   "id": "c3caa903-0fcc-45bb-b3c4-9d3e4a52438d",
   "metadata": {},
   "outputs": [],
   "source": [
    "        fr_paths  = [os.path.join(ep_path, 'firing_rate2') for ep_path in epoch_paths]\n"
   ]
  },
  {
   "cell_type": "code",
   "execution_count": 2,
   "id": "41be4e0d-2290-4d2e-81ea-12095c2a09fe",
   "metadata": {
    "tags": []
   },
   "outputs": [],
   "source": [
    "main_path = '/scratch/'\n",
    "epochs_path = '/scratch/RFMapping_2/'\n",
    "fr_path = '/scratch/RFMapping_2/firing_rate2/'\n",
    "trial_path = os.path.join(epochs_path,'trial_info.csv')\n",
    "data_path = os.path.join(main_path,'data.pkl')\n",
    "df_trials = pd.read_csv(trial_path,index_col='Unnamed: 0')\n",
    "df_data = pd.read_pickle(data_path)"
   ]
  },
  {
   "cell_type": "code",
   "execution_count": 3,
   "id": "138988b6-b159-400a-a79a-683cb9eccebe",
   "metadata": {
    "tags": []
   },
   "outputs": [],
   "source": [
    "cell_labels = df_data.cell_type.values\n",
    "region_labels = df_data.region.values\n",
    "layer_labels = df_data.layer.values"
   ]
  },
  {
   "cell_type": "code",
   "execution_count": 4,
   "id": "5891f8d9-5569-410b-8bf6-93a40a0f67bd",
   "metadata": {
    "tags": []
   },
   "outputs": [],
   "source": [
    "sr_path = os.path.join(epochs_path,'firing_rates.pkl')\n",
    "fr_data =pickle.load(open(sr_path, 'rb'))"
   ]
  },
  {
   "cell_type": "code",
   "execution_count": 33,
   "id": "919f2e63-fa4d-47b7-9718-87f76375f971",
   "metadata": {
    "tags": []
   },
   "outputs": [],
   "source": [
    "groups = group_by_constant_elements(fr_data)"
   ]
  },
  {
   "cell_type": "code",
   "execution_count": 35,
   "id": "714f2773-2b86-4e97-a0f9-b2bbae7b9357",
   "metadata": {
    "tags": []
   },
   "outputs": [
    {
     "ename": "NameError",
     "evalue": "name 'random' is not defined",
     "output_type": "error",
     "traceback": [
      "\u001b[0;31m---------------------------------------------------------------------------\u001b[0m",
      "\u001b[0;31mNameError\u001b[0m                                 Traceback (most recent call last)",
      "Cell \u001b[0;32mIn[35], line 1\u001b[0m\n\u001b[0;32m----> 1\u001b[0m subsampled_fixed \u001b[38;5;241m=\u001b[39m \u001b[43msubsample_groups\u001b[49m\u001b[43m(\u001b[49m\u001b[43mgroups\u001b[49m\u001b[43m,\u001b[49m\u001b[43m \u001b[49m\u001b[43msample_size\u001b[49m\u001b[38;5;241;43m=\u001b[39;49m\u001b[38;5;241;43m2\u001b[39;49m\u001b[43m)\u001b[49m\n",
      "Cell \u001b[0;32mIn[30], line 37\u001b[0m, in \u001b[0;36msubsample_groups\u001b[0;34m(grouped_data, sample_size, sample_fraction, random_seed)\u001b[0m\n\u001b[1;32m     34\u001b[0m \u001b[38;5;28;01mif\u001b[39;00m sample_size \u001b[38;5;129;01mis\u001b[39;00m \u001b[38;5;28;01mNone\u001b[39;00m \u001b[38;5;129;01mand\u001b[39;00m sample_fraction \u001b[38;5;129;01mis\u001b[39;00m \u001b[38;5;28;01mNone\u001b[39;00m:\n\u001b[1;32m     35\u001b[0m     \u001b[38;5;28;01mraise\u001b[39;00m \u001b[38;5;167;01mValueError\u001b[39;00m(\u001b[38;5;124m\"\u001b[39m\u001b[38;5;124mEither sample_size or sample_fraction must be specified\u001b[39m\u001b[38;5;124m\"\u001b[39m)\n\u001b[0;32m---> 37\u001b[0m \u001b[43mrandom\u001b[49m\u001b[38;5;241m.\u001b[39mseed(random_seed)\n\u001b[1;32m     38\u001b[0m subsampled \u001b[38;5;241m=\u001b[39m {}\n\u001b[1;32m     40\u001b[0m \u001b[38;5;28;01mfor\u001b[39;00m key, items \u001b[38;5;129;01min\u001b[39;00m grouped_data\u001b[38;5;241m.\u001b[39mitems():\n",
      "\u001b[0;31mNameError\u001b[0m: name 'random' is not defined"
     ]
    }
   ],
   "source": [
    "subsampled_fixed = subsample_groups(groups, sample_size=2)"
   ]
  },
  {
   "cell_type": "code",
   "execution_count": null,
   "id": "fbf59cdd-cc55-40c2-bff6-b92275466deb",
   "metadata": {},
   "outputs": [],
   "source": [
    "titles =  [i[0] for i in test[0]]\n",
    "im2plot = [i[1] for i in test[0]]\n",
    "reference_array = im2plot[0]  # The array to use for determining sort order\n",
    "\n",
    "# Get the maximum value in each row\n",
    "row_max_values = np.max(reference_array, axis=1)\n",
    "\n",
    "# Get the indices that would sort by descending order (highest first)\n",
    "sort_indices = np.argsort(row_max_values)[::-1]\n",
    "\n",
    "# Apply this ordering to all arrays\n",
    "sorted_array1 = im2plot[0][sort_indices]\n",
    "sorted_array2 = im2plot[1][sort_indices]\n",
    "sorted_array3 = im2plot[2][sort_indices]"
   ]
  },
  {
   "cell_type": "code",
   "execution_count": null,
   "id": "6532f7a6-4c32-4865-92c2-8bea80fcfd42",
   "metadata": {},
   "outputs": [],
   "source": [
    "# Sort the arrays\n",
    "reference_array = im2plot[0]\n",
    "first_max_indices = np.argmax(reference_array, axis=1)\n",
    "sort_indices = np.argsort(first_max_indices)\n",
    "\n",
    "# Apply sorting to all arrays\n",
    "sorted_im2plot = [arr[sort_indices] for arr in im2plot]\n",
    "\n",
    "# Visualize before and after\n",
    "fig, (ax1, ax2) = plt.subplots(2, 1, figsize=(15, 12))\n",
    "\n",
    "# Original stacked image\n",
    "original_stacked = np.hstack(im2plot)\n",
    "im1 = ax1.imshow(original_stacked, aspect='auto', cmap='viridis')\n",
    "ax1.set_title('Original Arrays')\n",
    "\n",
    "# Sorted stacked image\n",
    "sorted_stacked = np.hstack(sorted_im2plot)\n",
    "im2 = ax2.imshow(sorted_stacked, aspect='auto', cmap='viridis')\n",
    "ax2.set_title('Sorted by First Appearance of Maximum Value')\n",
    "\n",
    "# Calculate tick positions based on actual array shapes\n",
    "if 'titles' in locals():\n",
    "    for ax in [ax1, ax2]:\n",
    "        tick_positions = []\n",
    "        array_widths = [arr.shape[1] for arr in im2plot]  # Get width of each array\n",
    "        \n",
    "        current_position = 0\n",
    "        for width in array_widths:\n",
    "            # Place tick at center of each array\n",
    "            tick_positions.append(current_position + width/2 - 0.5)\n",
    "            current_position += width\n",
    "        \n",
    "        tick_labels = [str(title) for title in titles]\n",
    "        ax.set_xticks(tick_positions, tick_labels, rotation=45, ha='right')\n",
    "        \n",
    "        # Add separation lines based on actual widths\n",
    "        current_position = 0\n",
    "        for i, width in enumerate(array_widths[:-1]):  # Don't add line after last array\n",
    "            current_position += width\n",
    "            ax.axvline(x=current_position - 0.5, color='white', linestyle='-', linewidth=2, alpha=0.8)\n",
    "\n",
    "plt.colorbar(im1, ax=ax1)\n",
    "plt.colorbar(im2, ax=ax2)\n",
    "plt.tight_layout()\n",
    "plt.show()\n",
    "\n",
    "print(f\"Rows are now ordered by column position of first max:\")\n",
    "print(f\"Array shapes: {[arr.shape for arr in im2plot]}\")\n",
    "print(f\"Array widths: {[arr.shape[1] for arr in im2plot]}\")"
   ]
  },
  {
   "cell_type": "code",
   "execution_count": null,
   "id": "7ddfe688-5287-4858-b990-b73d982b367e",
   "metadata": {},
   "outputs": [],
   "source": []
  },
  {
   "cell_type": "code",
   "execution_count": null,
   "id": "4830e3bb-410b-4759-9c44-e6ada96b0b13",
   "metadata": {},
   "outputs": [],
   "source": []
  }
 ],
 "metadata": {
  "kernelspec": {
   "display_name": "Python 3 (ipykernel)",
   "language": "python",
   "name": "python3"
  },
  "language_info": {
   "codemirror_mode": {
    "name": "ipython",
    "version": 3
   },
   "file_extension": ".py",
   "mimetype": "text/x-python",
   "name": "python",
   "nbconvert_exporter": "python",
   "pygments_lexer": "ipython3",
   "version": "3.10.12"
  }
 },
 "nbformat": 4,
 "nbformat_minor": 5
}
