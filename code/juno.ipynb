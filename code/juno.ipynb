{
 "cells": [
  {
   "cell_type": "code",
   "execution_count": 1,
   "metadata": {
    "tags": []
   },
   "outputs": [],
   "source": [
    "# general imports \n",
    "import os\n",
    "from pathlib import Path\n",
    "import hdmf\n",
    "import numpy as np\n",
    "import pandas as pd \n",
    "import matplotlib.pyplot as plt\n",
    "%matplotlib inline \n",
    "\n",
    "# nwb specific imports \n",
    "import pynwb\n",
    "from nwbwidgets import nwb2widget\n",
    "from hdmf_zarr import NWBZarrIO "
   ]
  },
  {
   "cell_type": "code",
   "execution_count": 2,
   "metadata": {
    "tags": []
   },
   "outputs": [
    {
     "name": "stdout",
     "output_type": "stream",
     "text": [
      "data directory set to /data/\n"
     ]
    }
   ],
   "source": [
    "# set data path\n",
    "import sys\n",
    "import platform\n",
    "from os.path import join as pjoin\n",
    "\n",
    "platstring = platform.platform()\n",
    "system = platform.system()\n",
    "if system == \"Darwin\":\n",
    "    # macOS\n",
    "    data_dir = \"/Volumes/Brain2025/\"\n",
    "elif system == \"Windows\":\n",
    "    # Windows (replace with the drive letter of USB drive)\n",
    "    data_dir = \"E:/\"\n",
    "elif \"amzn\" in platstring:\n",
    "    # then on CodeOcean\n",
    "    data_dir = \"/data/\"\n",
    "else:\n",
    "    # then your own linux platform\n",
    "    # EDIT location where you mounted hard drive\n",
    "    data_dir = \"/media/$USERNAME/Brain2025/\"\n",
    "    \n",
    "print('data directory set to', data_dir)"
   ]
  },
  {
   "cell_type": "code",
   "execution_count": 3,
   "metadata": {
    "tags": []
   },
   "outputs": [
    {
     "data": {
      "text/html": [
       "<div>\n",
       "<style scoped>\n",
       "    .dataframe tbody tr th:only-of-type {\n",
       "        vertical-align: middle;\n",
       "    }\n",
       "\n",
       "    .dataframe tbody tr th {\n",
       "        vertical-align: top;\n",
       "    }\n",
       "\n",
       "    .dataframe thead th {\n",
       "        text-align: right;\n",
       "    }\n",
       "</style>\n",
       "<table border=\"1\" class=\"dataframe\">\n",
       "  <thead>\n",
       "    <tr style=\"text-align: right;\">\n",
       "      <th></th>\n",
       "      <th>project_name</th>\n",
       "      <th>_id</th>\n",
       "      <th>name</th>\n",
       "      <th>subject_id</th>\n",
       "      <th>genotype</th>\n",
       "      <th>date_of_birth</th>\n",
       "      <th>sex</th>\n",
       "      <th>modality</th>\n",
       "      <th>session_date</th>\n",
       "      <th>age</th>\n",
       "      <th>session_time</th>\n",
       "      <th>session_type</th>\n",
       "      <th>stimulus_epochs</th>\n",
       "      <th>stimulus_types</th>\n",
       "      <th>notes</th>\n",
       "    </tr>\n",
       "  </thead>\n",
       "  <tbody>\n",
       "    <tr>\n",
       "      <th>0</th>\n",
       "      <td>NP Ultra and Psychedelics</td>\n",
       "      <td>916393f2-7009-421a-bde7-bbaf95416937</td>\n",
       "      <td>ecephys_714527_2024-05-14_13-22-07_nwb_2025-08...</td>\n",
       "      <td>714527</td>\n",
       "      <td>Sim1-Cre_KJ18/wt;Ai32(RCL-ChR2(H134R)_EYFP)/wt</td>\n",
       "      <td>2023-11-30</td>\n",
       "      <td>Female</td>\n",
       "      <td>Extracellular electrophysiology</td>\n",
       "      <td>2024-05-14</td>\n",
       "      <td>166</td>\n",
       "      <td>10:25:34.114677</td>\n",
       "      <td>saline</td>\n",
       "      <td>['Spontaneous_0', 'RFMapping_0', 'OptoTagging_...</td>\n",
       "      <td>['Anesthesia' 'Injection' 'OptoTagging' 'RFMap...</td>\n",
       "      <td>['Saline injection occurred ~5 min after this ...</td>\n",
       "    </tr>\n",
       "    <tr>\n",
       "      <th>1</th>\n",
       "      <td>NP Ultra and Psychedelics</td>\n",
       "      <td>8a00ee0c-c470-43c5-b24c-52c1785bee3c</td>\n",
       "      <td>ecephys_714527_2024-05-15_13-00-23_nwb_2025-08...</td>\n",
       "      <td>714527</td>\n",
       "      <td>Sim1-Cre_KJ18/wt;Ai32(RCL-ChR2(H134R)_EYFP)/wt</td>\n",
       "      <td>2023-11-30</td>\n",
       "      <td>Female</td>\n",
       "      <td>Extracellular electrophysiology</td>\n",
       "      <td>2024-05-15</td>\n",
       "      <td>167</td>\n",
       "      <td>10:43:35.535979</td>\n",
       "      <td>psilocybin</td>\n",
       "      <td>['Spontaneous_0', 'RFMapping_0', 'OptoTagging_...</td>\n",
       "      <td>['Anesthesia' 'Injection' 'OptoTagging' 'RFMap...</td>\n",
       "      <td>['Psilocybin injection (3 mg/kg) occurred ~1 m...</td>\n",
       "    </tr>\n",
       "    <tr>\n",
       "      <th>2</th>\n",
       "      <td>NP Ultra and Psychedelics</td>\n",
       "      <td>c867ad1e-bd84-42df-b863-1244a2fcc957</td>\n",
       "      <td>ecephys_714789_2024-05-16_13-16-59_nwb_2025-08...</td>\n",
       "      <td>714789</td>\n",
       "      <td>Sim1-Cre_KJ18/wt;Ai32(RCL-ChR2(H134R)_EYFP)/wt</td>\n",
       "      <td>2023-12-01</td>\n",
       "      <td>Female</td>\n",
       "      <td>Extracellular electrophysiology</td>\n",
       "      <td>2024-05-16</td>\n",
       "      <td>167</td>\n",
       "      <td>10:26:41.826355</td>\n",
       "      <td>saline</td>\n",
       "      <td>['Spontaneous_0', 'RFMapping_0', 'OptoTagging_...</td>\n",
       "      <td>['Anesthesia' 'Injection' 'OptoTagging' 'RFMap...</td>\n",
       "      <td>['Saline injection occured ~1 min after this s...</td>\n",
       "    </tr>\n",
       "    <tr>\n",
       "      <th>3</th>\n",
       "      <td>NP Ultra and Psychedelics</td>\n",
       "      <td>48c07938-c41b-4cd6-b9e6-c25c0a90aedb</td>\n",
       "      <td>ecephys_714789_2024-05-17_11-47-07_nwb_2025-08...</td>\n",
       "      <td>714789</td>\n",
       "      <td>Sim1-Cre_KJ18/wt;Ai32(RCL-ChR2(H134R)_EYFP)/wt</td>\n",
       "      <td>2023-12-01</td>\n",
       "      <td>Female</td>\n",
       "      <td>Extracellular electrophysiology</td>\n",
       "      <td>2024-05-17</td>\n",
       "      <td>168</td>\n",
       "      <td>09:26:22.868269</td>\n",
       "      <td>psilocybin</td>\n",
       "      <td>['Spontaneous_0', 'RFMapping_0', 'OptoTagging_...</td>\n",
       "      <td>['Anesthesia' 'Injection' 'OptoTagging' 'RFMap...</td>\n",
       "      <td>['Psilocybin injection (3 mg/kg) occurred ~1 m...</td>\n",
       "    </tr>\n",
       "    <tr>\n",
       "      <th>4</th>\n",
       "      <td>NP Ultra and Psychedelics</td>\n",
       "      <td>f6792a6f-e70b-4d42-b0b0-9007adc65775</td>\n",
       "      <td>ecephys_717033_2024-06-04_13-01-40_nwb_2025-08...</td>\n",
       "      <td>717033</td>\n",
       "      <td>Tlx3-Cre_PL56/wt;Ai167(TIT2L-ChrimsonR-tdT-ICL...</td>\n",
       "      <td>2023-12-18</td>\n",
       "      <td>Male</td>\n",
       "      <td>Extracellular electrophysiology</td>\n",
       "      <td>2024-06-04</td>\n",
       "      <td>169</td>\n",
       "      <td>10:11:23.881625</td>\n",
       "      <td>saline</td>\n",
       "      <td>['Spontaneous_0', 'RFMapping_0', 'OptoTagging_...</td>\n",
       "      <td>['Anesthesia' 'Injection' 'OptoTagging' 'RFMap...</td>\n",
       "      <td>['Saline injection occurred ~1 minute after th...</td>\n",
       "    </tr>\n",
       "  </tbody>\n",
       "</table>\n",
       "</div>"
      ],
      "text/plain": [
       "                project_name                                   _id  \\\n",
       "0  NP Ultra and Psychedelics  916393f2-7009-421a-bde7-bbaf95416937   \n",
       "1  NP Ultra and Psychedelics  8a00ee0c-c470-43c5-b24c-52c1785bee3c   \n",
       "2  NP Ultra and Psychedelics  c867ad1e-bd84-42df-b863-1244a2fcc957   \n",
       "3  NP Ultra and Psychedelics  48c07938-c41b-4cd6-b9e6-c25c0a90aedb   \n",
       "4  NP Ultra and Psychedelics  f6792a6f-e70b-4d42-b0b0-9007adc65775   \n",
       "\n",
       "                                                name  subject_id  \\\n",
       "0  ecephys_714527_2024-05-14_13-22-07_nwb_2025-08...      714527   \n",
       "1  ecephys_714527_2024-05-15_13-00-23_nwb_2025-08...      714527   \n",
       "2  ecephys_714789_2024-05-16_13-16-59_nwb_2025-08...      714789   \n",
       "3  ecephys_714789_2024-05-17_11-47-07_nwb_2025-08...      714789   \n",
       "4  ecephys_717033_2024-06-04_13-01-40_nwb_2025-08...      717033   \n",
       "\n",
       "                                            genotype date_of_birth     sex  \\\n",
       "0     Sim1-Cre_KJ18/wt;Ai32(RCL-ChR2(H134R)_EYFP)/wt    2023-11-30  Female   \n",
       "1     Sim1-Cre_KJ18/wt;Ai32(RCL-ChR2(H134R)_EYFP)/wt    2023-11-30  Female   \n",
       "2     Sim1-Cre_KJ18/wt;Ai32(RCL-ChR2(H134R)_EYFP)/wt    2023-12-01  Female   \n",
       "3     Sim1-Cre_KJ18/wt;Ai32(RCL-ChR2(H134R)_EYFP)/wt    2023-12-01  Female   \n",
       "4  Tlx3-Cre_PL56/wt;Ai167(TIT2L-ChrimsonR-tdT-ICL...    2023-12-18    Male   \n",
       "\n",
       "                          modality session_date  age     session_time  \\\n",
       "0  Extracellular electrophysiology   2024-05-14  166  10:25:34.114677   \n",
       "1  Extracellular electrophysiology   2024-05-15  167  10:43:35.535979   \n",
       "2  Extracellular electrophysiology   2024-05-16  167  10:26:41.826355   \n",
       "3  Extracellular electrophysiology   2024-05-17  168  09:26:22.868269   \n",
       "4  Extracellular electrophysiology   2024-06-04  169  10:11:23.881625   \n",
       "\n",
       "  session_type                                    stimulus_epochs  \\\n",
       "0       saline  ['Spontaneous_0', 'RFMapping_0', 'OptoTagging_...   \n",
       "1   psilocybin  ['Spontaneous_0', 'RFMapping_0', 'OptoTagging_...   \n",
       "2       saline  ['Spontaneous_0', 'RFMapping_0', 'OptoTagging_...   \n",
       "3   psilocybin  ['Spontaneous_0', 'RFMapping_0', 'OptoTagging_...   \n",
       "4       saline  ['Spontaneous_0', 'RFMapping_0', 'OptoTagging_...   \n",
       "\n",
       "                                      stimulus_types  \\\n",
       "0  ['Anesthesia' 'Injection' 'OptoTagging' 'RFMap...   \n",
       "1  ['Anesthesia' 'Injection' 'OptoTagging' 'RFMap...   \n",
       "2  ['Anesthesia' 'Injection' 'OptoTagging' 'RFMap...   \n",
       "3  ['Anesthesia' 'Injection' 'OptoTagging' 'RFMap...   \n",
       "4  ['Anesthesia' 'Injection' 'OptoTagging' 'RFMap...   \n",
       "\n",
       "                                               notes  \n",
       "0  ['Saline injection occurred ~5 min after this ...  \n",
       "1  ['Psilocybin injection (3 mg/kg) occurred ~1 m...  \n",
       "2  ['Saline injection occured ~1 min after this s...  \n",
       "3  ['Psilocybin injection (3 mg/kg) occurred ~1 m...  \n",
       "4  ['Saline injection occurred ~1 minute after th...  "
      ]
     },
     "execution_count": 3,
     "metadata": {},
     "output_type": "execute_result"
    }
   ],
   "source": [
    "# Load metadata CSV \n",
    "metadata = pd.read_csv('/data/metadata/npultra_metadata.csv', index_col = False) \n",
    "metadata.head()"
   ]
  },
  {
   "cell_type": "code",
   "execution_count": 4,
   "metadata": {
    "tags": []
   },
   "outputs": [
    {
     "name": "stdout",
     "output_type": "stream",
     "text": [
      "Found filepath: /data/np-ultra-psychedelics/ecephys_714527_2024-05-14_13-22-07_nwb_2025-08-03_21-11-22/ecephys_714527_2024-05-14_13-22-07_experiment1_recording1.nwb\n"
     ]
    }
   ],
   "source": [
    "# Select psilocybin sessions \n",
    "filtered_metadata = metadata[metadata.session_type == 'saline']\n",
    "\n",
    "# Get the asset name \n",
    "session_name = filtered_metadata['name'].iloc[0]\n",
    "\n",
    "# Find the filepath \n",
    "data_dir = os.path.join(r'/data/np-ultra-psychedelics/', session_name)\n",
    "nwb_path_zarr = list(Path(data_dir).glob(\"*.nwb\"))[0]\n",
    "\n",
    "print('Found filepath:', nwb_path_zarr) \n"
   ]
  },
  {
   "cell_type": "code",
   "execution_count": 5,
   "metadata": {
    "tags": []
   },
   "outputs": [
    {
     "name": "stdout",
     "output_type": "stream",
     "text": [
      "Found filepath: /data/np-ultra-psychedelics/ecephys_714527_2024-05-15_13-00-23_nwb_2025-08-03_21-11-22/ecephys_714527_2024-05-15_13-00-23_experiment1_recording1.nwb\n"
     ]
    }
   ],
   "source": [
    "# Select psilocybin sessions \n",
    "filtered_metadata = metadata[metadata.session_type == 'psilocybin']\n",
    "\n",
    "# Get the asset name \n",
    "session_name = filtered_metadata['name'].iloc[0]\n",
    "\n",
    "# Find the filepath \n",
    "data_dir = os.path.join(r'/data/np-ultra-psychedelics/', session_name)\n",
    "nwb_path_zarr = list(Path(data_dir).glob(\"*.nwb\"))[0]\n",
    "\n",
    "print('Found filepath:', nwb_path_zarr) \n"
   ]
  },
  {
   "cell_type": "code",
   "execution_count": 6,
   "metadata": {
    "tags": []
   },
   "outputs": [],
   "source": [
    "io = NWBZarrIO(nwb_path_zarr, mode = 'r') \n",
    "nwbfile_zarr = io.read()"
   ]
  },
  {
   "cell_type": "code",
   "execution_count": 7,
   "metadata": {
    "tags": []
   },
   "outputs": [
    {
     "data": {
      "application/vnd.jupyter.widget-view+json": {
       "model_id": "4ba3afc6201244f9ab4eaba39ea7feb2",
       "version_major": 2,
       "version_minor": 0
      },
      "text/plain": [
       "VBox(children=(HBox(children=(Label(value='session_description:', layout=Layout(max_height='40px', max_width='…"
      ]
     },
     "execution_count": 7,
     "metadata": {},
     "output_type": "execute_result"
    }
   ],
   "source": [
    "nwb2widget(nwbfile_zarr)"
   ]
  },
  {
   "cell_type": "code",
   "execution_count": null,
   "metadata": {},
   "outputs": [],
   "source": []
  }
 ],
 "metadata": {
  "kernelspec": {
   "display_name": "Python 3 (ipykernel)",
   "language": "python",
   "name": "python3"
  },
  "language_info": {
   "codemirror_mode": {
    "name": "ipython",
    "version": 3
   },
   "file_extension": ".py",
   "mimetype": "text/x-python",
   "name": "python",
   "nbconvert_exporter": "python",
   "pygments_lexer": "ipython3",
   "version": "3.10.12"
  }
 },
 "nbformat": 4,
 "nbformat_minor": 4
}
