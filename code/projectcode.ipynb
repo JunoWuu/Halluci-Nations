{
 "cells": [
  {
   "cell_type": "code",
   "execution_count": null,
   "metadata": {},
   "outputs": [],
   "source": [
    "# general imports \n",
    "import os\n",
    "from pathlib import Path\n",
    "import hdmf\n",
    "import numpy as np\n",
    "import pandas as pd \n",
    "import matplotlib.pyplot as plt\n",
    "%matplotlib inline \n",
    "\n",
    "# nwb specific imports \n",
    "import pynwb\n",
    "from nwbwidgets import nwb2widget\n",
    "from hdmf_zarr import NWBZarrIO "
   ]
  },
  {
   "cell_type": "code",
   "execution_count": null,
   "metadata": {},
   "outputs": [],
   "source": [
    "# set data path\n",
    "import sys\n",
    "import platform\n",
    "from os.path import join as pjoin\n",
    "\n",
    "platstring = platform.platform()\n",
    "system = platform.system()\n",
    "if system == \"Darwin\":\n",
    "    # macOS\n",
    "    data_dir = \"/Volumes/Brain2025/\"\n",
    "elif system == \"Windows\":\n",
    "    # Windows (replace with the drive letter of USB drive)\n",
    "    data_dir = \"E:/\"\n",
    "elif \"amzn\" in platstring:\n",
    "    # then on CodeOcean\n",
    "    data_dir = \"/data/\"\n",
    "else:\n",
    "    # then your own linux platform\n",
    "    # EDIT location where you mounted hard drive\n",
    "    data_dir = \"/media/$USERNAME/Brain2025/\"\n",
    "    \n",
    "print('data directory set to', data_dir)"
   ]
  },
  {
   "cell_type": "code",
   "execution_count": null,
   "metadata": {},
   "outputs": [],
   "source": [
    "# new cell"
   ]
  },
  {
   "cell_type": "code",
   "execution_count": null,
   "metadata": {},
   "outputs": [],
   "source": [
    "# Load metadata CSV \n",
    "metadata = pd.read_csv('/data/metadata/npultra_metadata.csv', index_col = False) \n",
    "metadata.head()"
   ]
  },
  {
   "cell_type": "code",
   "execution_count": null,
   "metadata": {},
   "outputs": [],
   "source": [
    "<div style=\"border-left: 3px solid #000; padding: 1px; padding-left: 10px; background: #F0FAFF; \">\n",
    "\n",
    "<h2>Select a session file</h2>\n",
    "    \n",
    "Using the metadata DataFrame, let's select a session of interest and load the NWB file."
   ]
  },
  {
   "cell_type": "code",
   "execution_count": null,
   "metadata": {},
   "outputs": [],
   "source": [
    "# Select psilocybin sessions \n",
    "filtered_metadata = metadata[metadata.session_type == 'psilocybin']\n",
    "\n",
    "# Get the asset name \n",
    "session_name = filtered_metadata['name'].iloc[0]\n",
    "\n",
    "# Find the filepath \n",
    "data_dir = os.path.join(r'/data/np-ultra-psychedelics/', session_name)\n",
    "nwb_path_zarr = list(Path(data_dir).glob(\"*.nwb\"))[0]\n",
    "\n",
    "print('Found filepath:', nwb_path_zarr) "
   ]
  }
 ],
 "metadata": {
  "kernelspec": {
   "display_name": "Python 3 (ipykernel)",
   "language": "python",
   "name": "python3"
  },
  "language_info": {
   "codemirror_mode": {
    "name": "ipython",
    "version": 3
   },
   "file_extension": ".py",
   "mimetype": "text/x-python",
   "name": "python",
   "nbconvert_exporter": "python",
   "pygments_lexer": "ipython3",
   "version": "3.10.12"
  }
 },
 "nbformat": 4,
 "nbformat_minor": 4
}
