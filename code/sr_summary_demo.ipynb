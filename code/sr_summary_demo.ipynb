{
 "cells": [
  {
   "cell_type": "code",
   "execution_count": 3,
   "id": "9e112490-3544-4779-850b-b13d936a770b",
   "metadata": {
    "tags": []
   },
   "outputs": [],
   "source": [
    "import os\n",
    "import numpy as np\n",
    "import pandas as pd \n",
    "import matplotlib.pyplot as plt\n",
    "import pickle\n",
    "from tqdm import tqdm \n",
    "import signal_processing.sr_processing as sr"
   ]
  },
  {
   "cell_type": "code",
   "execution_count": 4,
   "id": "2cb8d509",
   "metadata": {},
   "outputs": [
    {
     "name": "stderr",
     "output_type": "stream",
     "text": [
      "100%|██████████| 193/193 [00:05<00:00, 35.58it/s]\n",
      "100%|██████████| 193/193 [00:05<00:00, 35.91it/s]\n",
      "100%|██████████| 193/193 [00:05<00:00, 36.45it/s]\n",
      " 95%|█████████▌| 184/193 [00:01<00:00, 107.26it/s]"
     ]
    },
    {
     "ename": "SystemExit",
     "evalue": "",
     "output_type": "error",
     "traceback": [
      "An exception has occurred, use %tb to see the full traceback.\n",
      "\u001b[0;31mSystemExit\u001b[0m\n"
     ]
    },
    {
     "name": "stderr",
     "output_type": "stream",
     "text": [
      "/home/tony/miniconda3/envs/brainsformer/lib/python3.10/site-packages/IPython/core/interactiveshell.py:3587: UserWarning: To exit: use 'exit', 'quit', or Ctrl-D.\n",
      "  warn(\"To exit: use 'exit', 'quit', or Ctrl-D.\", stacklevel=1)\n"
     ]
    },
    {
     "name": "stderr",
     "output_type": "stream",
     "text": [
      "100%|██████████| 193/193 [00:13<00:00, 107.26it/s]"
     ]
    }
   ],
   "source": [
    "dat_spike_paths = '/home/tony/Halluci-Nations/scratch/'\n",
    "for main_path in os.listdir(dat_spike_paths):\n",
    "    try:\n",
    "        main_path = os.path.join(dat_spike_paths,main_path)\n",
    "        time_res = 0.01\n",
    "        bin_size = time_res\n",
    "        data_path = os.path.join(main_path,'data.pkl')\n",
    "        epoch_path = os.path.join(main_path,'epochs.pkl')\n",
    "        photostim_path = os.path.join(main_path,'photostim.pkl')\n",
    "        visualstim_path = os.path.join(main_path,'visualstim.pkl')\n",
    "        df_data = pd.read_pickle(data_path)\n",
    "        df_epoch = pd.read_pickle(epoch_path)\n",
    "        df_photostim = pd.read_pickle(photostim_path)\n",
    "        df_visualstim = pd.read_pickle(visualstim_path)\n",
    "        stim_ep_list = [i for i in df_epoch['stim_name'] if 'RFMapping' in i]\n",
    "        for stims_eps in stim_ep_list:\n",
    "            epochs_path = f'{main_path}/{stims_eps}/'\n",
    "            fr_path = f'{epochs_path}/firing_rate2/'\n",
    "            trial_path = os.path.join(epochs_path,'trial_info.csv')\n",
    "            df_trials = pd.read_csv(trial_path,index_col='Unnamed: 0')\n",
    "            index_map = sr.get_index_maps(df_trials)\n",
    "            results_dic ={}\n",
    "            results_dic2 = {}\n",
    "            pbar = tqdm(total = len(index_map.keys()),leave=True, position=0)\n",
    "            for inds in index_map.keys():\n",
    "                trials2avg = index_map[inds]\n",
    "                data_set = {d_ind:sr.get_spikerate_data(f'{fr_path}trial_array_{d_ind}.pkl') for d_ind in trials2avg}\n",
    "                if len(set([d['bin_centers'].shape[0] for d in data_set.values()])) != 1:\n",
    "                    data_set = sr.trim_binsz_ts(data_set)\n",
    "                temp_results = sr.psth_cal([trial['s_counts'] for trial in data_set.values()])/bin_size\n",
    "                results_dic2[inds] = temp_results\n",
    "                results_dic[inds] = sr.spike_rate_zscore(temp_results)\n",
    "                pbar.update(1)\n",
    "            filename = f'{epochs_path}/firing_rates_zscored.pkl'\n",
    "            filename2 = f'{epochs_path}/firing_rates.pkl'\n",
    "            pickle.dump(results_dic, open(filename, 'wb'))\n",
    "            pickle.dump(results_dic2, open(filename2, 'wb'))\n",
    "    except Exception as e:\n",
    "        pass"
   ]
  },
  {
   "cell_type": "code",
   "execution_count": null,
   "id": "7323db7b",
   "metadata": {},
   "outputs": [],
   "source": []
  }
 ],
 "metadata": {
  "kernelspec": {
   "display_name": "brainsformer",
   "language": "python",
   "name": "python3"
  },
  "language_info": {
   "codemirror_mode": {
    "name": "ipython",
    "version": 3
   },
   "file_extension": ".py",
   "mimetype": "text/x-python",
   "name": "python",
   "nbconvert_exporter": "python",
   "pygments_lexer": "ipython3",
   "version": "3.11.13"
  }
 },
 "nbformat": 4,
 "nbformat_minor": 5
}
