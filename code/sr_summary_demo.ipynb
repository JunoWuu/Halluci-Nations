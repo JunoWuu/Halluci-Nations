{
 "cells": [
  {
   "cell_type": "code",
   "execution_count": 1,
   "id": "9e112490-3544-4779-850b-b13d936a770b",
   "metadata": {
    "tags": []
   },
   "outputs": [],
   "source": [
    "import os\n",
    "import numpy as np\n",
    "import pandas as pd \n",
    "import matplotlib.pyplot as plt\n",
    "import seaborn as sns\n",
    "import pickle\n",
    "from tqdm import tqdm \n",
    "from sklearn.preprocessing import StandardScaler\n",
    "import sr_processing as sr"
   ]
  },
  {
   "cell_type": "code",
   "execution_count": 8,
   "id": "9cc2394e-0d36-468e-b934-67cf770f9446",
   "metadata": {
    "tags": []
   },
   "outputs": [],
   "source": [
    "epochs_path = '/scratch/RFMapping_2/'\n",
    "fr_path = '/scratch/RFMapping_2/firing_rate2/'\n",
    "trial_path = os.path.join(epochs_path,'trial_info.csv')\n",
    "df_trials = pd.read_csv(trial_path,index_col='Unnamed: 0')"
   ]
  },
  {
   "cell_type": "code",
   "execution_count": 9,
   "id": "e1411e67-25cf-4491-93ee-633efbae5019",
   "metadata": {
    "tags": []
   },
   "outputs": [],
   "source": [
    "index_map = sr.get_index_maps(df_trials)"
   ]
  },
  {
   "cell_type": "code",
   "execution_count": 10,
   "id": "abb33546-006a-4a20-bbc1-db95ee4ec5d4",
   "metadata": {
    "tags": []
   },
   "outputs": [
    {
     "name": "stderr",
     "output_type": "stream",
     "text": [
      "100%|██████████| 193/193 [00:06<00:00, 30.51it/s]\n",
      "100%|██████████| 193/193 [00:04<00:00, 11.04it/s]"
     ]
    }
   ],
   "source": [
    "pbar = tqdm(total = len(index_map.keys()),leave=True, position=0)\n",
    "results_dict = {}\n",
    "for inds in index_map.keys():\n",
    "    #print(inds)\n",
    "    data_set_inds = index_map[inds]\n",
    "    data_set =  {d_ind:sr.get_spikerate_data(f'{fr_path}trial_array_{d_ind}.npz') for d_ind in data_set_inds}\n",
    "    if len(set([d['timestamp'].shape[0] for d in data_set.values()])) != 1:\n",
    "        data_set = sr.trim_binsz_ts(data_set)\n",
    "    results_dict[inds] = sr.calculate_trial_averages(data_set)\n",
    "    pbar.update(1)\n",
    "filename = f'{epochs_path}firing_rates.pkl'\n",
    "pickle.dump(results_dict, open(filename, 'wb'))"
   ]
  },
  {
   "cell_type": "code",
   "execution_count": null,
   "id": "7b49de93-a237-4ee2-86ab-9fe1fb60a3a5",
   "metadata": {},
   "outputs": [],
   "source": []
  }
 ],
 "metadata": {
  "kernelspec": {
   "display_name": "Python 3 (ipykernel)",
   "language": "python",
   "name": "python3"
  },
  "language_info": {
   "codemirror_mode": {
    "name": "ipython",
    "version": 3
   },
   "file_extension": ".py",
   "mimetype": "text/x-python",
   "name": "python",
   "nbconvert_exporter": "python",
   "pygments_lexer": "ipython3",
   "version": "3.10.12"
  }
 },
 "nbformat": 4,
 "nbformat_minor": 5
}
