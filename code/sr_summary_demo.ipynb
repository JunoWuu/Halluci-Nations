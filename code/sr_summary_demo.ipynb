{
 "cells": [
  {
   "cell_type": "code",
   "execution_count": 4,
   "id": "9e112490-3544-4779-850b-b13d936a770b",
   "metadata": {
    "tags": []
   },
   "outputs": [],
   "source": [
    "import os\n",
    "import numpy as np\n",
    "import pandas as pd \n",
    "import matplotlib.pyplot as plt\n",
    "import seaborn as sns\n",
    "import pickle\n",
    "from tqdm import tqdm \n",
    "import sr_processing as sr"
   ]
  },
  {
   "cell_type": "code",
   "execution_count": 6,
   "id": "2cb8d509",
   "metadata": {},
   "outputs": [
    {
     "name": "stderr",
     "output_type": "stream",
     "text": [
      "100%|██████████| 193/193 [00:04<00:00, 40.06it/s]\n",
      "100%|██████████| 193/193 [00:04<00:00, 39.46it/s]\n",
      "100%|██████████| 193/193 [00:04<00:00, 39.39it/s]\n",
      "100%|██████████| 193/193 [00:02<00:00, 67.66it/s] \n",
      "100%|██████████| 193/193 [00:04<00:00, 45.40it/s]\n",
      "100%|██████████| 193/193 [00:04<00:00, 45.31it/s]\n",
      "100%|██████████| 193/193 [00:04<00:00, 43.19it/s]\n",
      "100%|██████████| 193/193 [00:01<00:00, 131.20it/s]\n",
      "100%|██████████| 193/193 [00:01<00:00, 132.50it/s]\n",
      "100%|██████████| 193/193 [00:01<00:00, 131.78it/s]\n",
      "100%|██████████| 193/193 [00:01<00:00, 191.30it/s]\n",
      "100%|██████████| 193/193 [00:03<00:00, 50.44it/s]\n",
      "100%|██████████| 193/193 [00:03<00:00, 51.22it/s]\n",
      "100%|██████████| 193/193 [00:04<00:00, 46.02it/s]\n",
      "100%|██████████| 193/193 [00:04<00:00, 41.67it/s]\n",
      "100%|██████████| 193/193 [00:04<00:00, 41.09it/s]\n",
      "100%|██████████| 193/193 [00:04<00:00, 41.24it/s]\n",
      "100%|██████████| 193/193 [00:04<00:00, 44.51it/s] \n",
      "100%|██████████| 193/193 [00:04<00:00, 47.72it/s]\n",
      "100%|██████████| 193/193 [00:04<00:00, 48.04it/s]\n",
      "100%|██████████| 193/193 [00:04<00:00, 48.01it/s]\n",
      "100%|██████████| 193/193 [00:04<00:00, 45.93it/s] \n",
      "100%|██████████| 193/193 [00:02<00:00, 84.52it/s] \n",
      "100%|██████████| 193/193 [00:02<00:00, 84.93it/s] \n",
      "100%|██████████| 193/193 [00:05<00:00, 36.46it/s] \n",
      "100%|██████████| 193/193 [00:03<00:00, 54.53it/s]\n",
      "100%|██████████| 193/193 [00:03<00:00, 54.81it/s]\n",
      "100%|██████████| 193/193 [00:06<00:00, 27.64it/s]\n",
      "100%|██████████| 193/193 [00:02<00:00, 75.93it/s] \n",
      "100%|██████████| 193/193 [00:02<00:00, 74.52it/s] \n",
      "100%|██████████| 193/193 [00:02<00:00, 75.72it/s] \n",
      "100%|██████████| 193/193 [00:04<00:00, 45.64it/s] \n",
      "100%|██████████| 193/193 [00:03<00:00, 58.73it/s]\n",
      "100%|██████████| 193/193 [00:03<00:00, 59.59it/s]\n",
      "100%|██████████| 193/193 [00:05<00:00, 36.97it/s]\n",
      "100%|██████████| 193/193 [00:01<00:00, 130.12it/s]\n",
      "100%|██████████| 193/193 [00:01<00:00, 130.07it/s]\n",
      "100%|██████████| 193/193 [00:01<00:00, 130.64it/s]\n",
      " 91%|█████████ | 175/193 [00:00<00:00, 347.16it/s]"
     ]
    },
    {
     "name": "stderr",
     "output_type": "stream",
     "text": [
      "100%|██████████| 193/193 [00:15<00:00, 347.16it/s]"
     ]
    }
   ],
   "source": [
    "dat_spike_paths = '/home/tony/Halluci-Nations/scratch/'\n",
    "for main_path in os.listdir(dat_spike_paths):\n",
    "    try:\n",
    "        main_path = os.path.join(dat_spike_paths,main_path)\n",
    "        time_res = 0.01\n",
    "        bin_size = time_res\n",
    "        data_path = os.path.join(main_path,'data.pkl')\n",
    "        epoch_path = os.path.join(main_path,'epochs.pkl')\n",
    "        photostim_path = os.path.join(main_path,'photostim.pkl')\n",
    "        visualstim_path = os.path.join(main_path,'visualstim.pkl')\n",
    "        df_data = pd.read_pickle(data_path)\n",
    "        df_epoch = pd.read_pickle(epoch_path)\n",
    "        df_photostim = pd.read_pickle(photostim_path)\n",
    "        df_visualstim = pd.read_pickle(visualstim_path)\n",
    "        stim_ep_list = [i for i in df_epoch['stim_name'] if 'RFMapping' in i]\n",
    "        for stims_eps in stim_ep_list:\n",
    "            epochs_path = f'{main_path}/{stims_eps}/'\n",
    "            fr_path = f'{epochs_path}/firing_rate2/'\n",
    "            trial_path = os.path.join(epochs_path,'trial_info.csv')\n",
    "            df_trials = pd.read_csv(trial_path,index_col='Unnamed: 0')\n",
    "            index_map = sr.get_index_maps(df_trials)\n",
    "            results_dic ={}\n",
    "            pbar = tqdm(total = len(index_map.keys()),leave=True, position=0)\n",
    "            for inds in index_map.keys():\n",
    "                trials2avg = index_map[inds]\n",
    "                data_set = {d_ind:sr.get_spikerate_data(f'{fr_path}trial_array_{d_ind}.pkl') for d_ind in trials2avg}\n",
    "                if len(set([d['bin_centers'].shape[0] for d in data_set.values()])) != 1:\n",
    "                    data_set = sr.trim_binsz_ts(data_set)\n",
    "                temp_results = sr.psth_cal([trial['s_counts'] for trial in data_set.values()])/bin_size\n",
    "                results_dic[inds] = sr.spike_rate_zscore(temp_results)\n",
    "                pbar.update(1)\n",
    "            filename = f'{epochs_path}/firing_rates.pkl'\n",
    "            pickle.dump(results_dic, open(filename, 'wb'))\n",
    "    except Exception as e:\n",
    "        pass"
   ]
  },
  {
   "cell_type": "code",
   "execution_count": 54,
   "id": "0644b6eb-e4e9-4251-b80d-1f9026e46b45",
   "metadata": {
    "tags": []
   },
   "outputs": [],
   "source": [
    "main_path = '/scratch/ecephys_714527_2024-05-14_13-22-07_nwb_2025-08-03_21-11-22/'\n",
    "epoch_path = os.path.join(main_path,'epochs.pkl')\n",
    "df_epoch = pd.read_pickle(epoch_path)"
   ]
  },
  {
   "cell_type": "code",
   "execution_count": 55,
   "id": "02e8c4ad-43af-4dd1-9f9d-0a785cc3235e",
   "metadata": {
    "tags": []
   },
   "outputs": [
    {
     "name": "stderr",
     "output_type": "stream",
     "text": [
      "100%|██████████| 193/193 [28:30<00:00,  8.86s/it]\n",
      "100%|██████████| 193/193 [00:10<00:00, 17.74it/s]\n",
      "100%|██████████| 193/193 [00:10<00:00, 17.56it/s]\n",
      "100%|██████████| 193/193 [00:10<00:00, 17.62it/s]\n",
      "100%|██████████| 193/193 [00:16<00:00, 52.35it/s]"
     ]
    }
   ],
   "source": [
    "bin_size = 0.01\n",
    "#stim_ep_list = ['RFMapping_0','RFMapping_1','RFMapping_2','RFMapping_3']\n",
    "stim_ep_list = [i for i in df_epoch['stim_name'] if 'RFMapping' in i]\n",
    "for stims_eps in stim_ep_list:\n",
    "    epochs_path = f'{main_path}{stims_eps}/'\n",
    "    fr_path = f'{epochs_path}/firing_rate2/'\n",
    "    trial_path = os.path.join(epochs_path,'trial_info.csv')\n",
    "    df_trials = pd.read_csv(trial_path,index_col='Unnamed: 0')\n",
    "    index_map = sr.get_index_maps(df_trials)\n",
    "    results_dic ={}\n",
    "    pbar = tqdm(total = len(index_map.keys()),leave=True, position=0)\n",
    "    for inds in index_map.keys():\n",
    "        trials2avg = index_map[inds]\n",
    "        data_set = {d_ind:sr.get_spikerate_data(f'{fr_path}trial_array_{d_ind}.pkl') for d_ind in trials2avg}\n",
    "        if len(set([d['bin_centers'].shape[0] for d in data_set.values()])) != 1:\n",
    "            data_set = sr.trim_binsz_ts(data_set)\n",
    "        temp_results = sr.psth_cal([trial['s_counts'] for trial in data_set.values()])/bin_size\n",
    "        results_dic[inds] = sr.spike_rate_zscore(temp_results)\n",
    "        pbar.update(1)\n",
    "    filename = f'{epochs_path}firing_rates.pkl'\n",
    "    pickle.dump(results_dic, open(filename, 'wb'))"
   ]
  },
  {
   "cell_type": "code",
   "execution_count": null,
   "id": "fb9663e0-4e11-4574-b450-af2906d3db26",
   "metadata": {},
   "outputs": [],
   "source": []
  }
 ],
 "metadata": {
  "kernelspec": {
   "display_name": "brainsformer",
   "language": "python",
   "name": "python3"
  },
  "language_info": {
   "codemirror_mode": {
    "name": "ipython",
    "version": 3
   },
   "file_extension": ".py",
   "mimetype": "text/x-python",
   "name": "python",
   "nbconvert_exporter": "python",
   "pygments_lexer": "ipython3",
   "version": "3.10.18"
  }
 },
 "nbformat": 4,
 "nbformat_minor": 5
}
