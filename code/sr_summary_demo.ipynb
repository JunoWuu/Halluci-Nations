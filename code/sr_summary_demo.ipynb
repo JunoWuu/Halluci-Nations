{
 "cells": [
  {
   "cell_type": "code",
   "execution_count": 1,
   "id": "9e112490-3544-4779-850b-b13d936a770b",
   "metadata": {
    "tags": []
   },
   "outputs": [],
   "source": [
    "import os\n",
    "import numpy as np\n",
    "import pandas as pd \n",
    "import matplotlib.pyplot as plt\n",
    "import seaborn as sns\n",
    "import pickle\n",
    "from tqdm import tqdm \n",
    "from sklearn.preprocessing import StandardScaler\n",
    "import sr_processing as sr"
   ]
  },
  {
   "cell_type": "code",
   "execution_count": 2,
   "id": "0644b6eb-e4e9-4251-b80d-1f9026e46b45",
   "metadata": {
    "tags": []
   },
   "outputs": [],
   "source": [
    "def psth_cal(trial_arrays):\n",
    "    stacked_trial_rates = np.stack(trial_arrays, axis=0)\n",
    "    per_neuron_psth = np.mean(stacked_trial_rates, axis=0)\n",
    "    return per_neuron_psth"
   ]
  },
  {
   "cell_type": "code",
   "execution_count": 3,
   "id": "9cc2394e-0d36-468e-b934-67cf770f9446",
   "metadata": {
    "tags": []
   },
   "outputs": [],
   "source": [
    "stims_eps = 'RFMapping_2'\n",
    "epochs_path = f'/scratch/{stims_eps}/'\n",
    "fr_path = f'{epochs_path}/firing_rate2/'\n",
    "trial_path = os.path.join(epochs_path,'trial_info.csv')\n",
    "df_trials = pd.read_csv(trial_path,index_col='Unnamed: 0')"
   ]
  },
  {
   "cell_type": "code",
   "execution_count": 4,
   "id": "e1411e67-25cf-4491-93ee-633efbae5019",
   "metadata": {
    "tags": []
   },
   "outputs": [],
   "source": [
    "index_map = sr.get_index_maps(df_trials)"
   ]
  },
  {
   "cell_type": "code",
   "execution_count": 7,
   "id": "02e8c4ad-43af-4dd1-9f9d-0a785cc3235e",
   "metadata": {
    "tags": []
   },
   "outputs": [
    {
     "name": "stderr",
     "output_type": "stream",
     "text": [
      "100%|██████████| 193/193 [00:20<00:00,  9.58it/s]\n",
      " 98%|█████████▊| 190/193 [00:04<00:00, 45.71it/s]"
     ]
    }
   ],
   "source": [
    "results_dic ={}\n",
    "pbar = tqdm(total = len(index_map.keys()),leave=True, position=0)\n",
    "\n",
    "for inds in index_map.keys():\n",
    "    trials2avg = index_map[inds]\n",
    "    data_set = {d_ind:sr.get_spikerate_data(f'{fr_path}trial_array_{d_ind}.pkl') for d_ind in trials2avg}\n",
    "    if len(set([d['bin_centers'].shape[0] for d in data_set.values()])) != 1:\n",
    "        data_set = sr.trim_binsz_ts(data_set)\n",
    "    results_dic[inds] = psth_cal([trial['s_counts'] for trial in data_set.values()])\n",
    "    pbar.update(1)\n",
    "filename = f'{epochs_path}firing_rates.pkl'\n",
    "pickle.dump(results_dic, open(filename, 'wb'))"
   ]
  },
  {
   "cell_type": "code",
   "execution_count": null,
   "id": "e1cfe1ac-d5f7-4b51-9fe2-2160e4c2591c",
   "metadata": {},
   "outputs": [],
   "source": []
  },
  {
   "cell_type": "code",
   "execution_count": null,
   "id": "7b49de93-a237-4ee2-86ab-9fe1fb60a3a5",
   "metadata": {},
   "outputs": [],
   "source": []
  }
 ],
 "metadata": {
  "kernelspec": {
   "display_name": "Python 3 (ipykernel)",
   "language": "python",
   "name": "python3"
  },
  "language_info": {
   "codemirror_mode": {
    "name": "ipython",
    "version": 3
   },
   "file_extension": ".py",
   "mimetype": "text/x-python",
   "name": "python",
   "nbconvert_exporter": "python",
   "pygments_lexer": "ipython3",
   "version": "3.10.12"
  }
 },
 "nbformat": 4,
 "nbformat_minor": 5
}
