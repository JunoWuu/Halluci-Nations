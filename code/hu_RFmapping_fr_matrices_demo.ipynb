{
 "cells": [
  {
   "cell_type": "code",
   "execution_count": 1,
   "id": "e3537bb0-c693-4da5-94e0-d1d65b51dc0c",
   "metadata": {
    "tags": []
   },
   "outputs": [],
   "source": [
    "import os\n",
    "import matplotlib.pyplot as plt\n",
    "import seaborn as sns\n",
    "from tqdm import tqdm \n",
    "import utils.plot_utils as plu\n",
    "from tqdm import tqdm\n",
    "from hu_classes.hu_RFmapping_fr_matrices import hu_RFmapping_fr_matrices\n",
    "import numpy as np\n",
    "import pandas as pd\n",
    "import signal_processing.sr_processing as sr"
   ]
  },
  {
   "cell_type": "code",
   "execution_count": 2,
   "id": "efdd7c36-a784-40b0-8417-7c0e09bfe2d7",
   "metadata": {
    "tags": []
   },
   "outputs": [
    {
     "name": "stderr",
     "output_type": "stream",
     "text": [
      "  0%|          | 0/11 [00:00<?, ?it/s]"
     ]
    },
    {
     "name": "stdout",
     "output_type": "stream",
     "text": [
      "Warning: Found 182 neuron(s) with a standard deviation of 0. Their z-scores will be calculated as (rate - mean) to avoid division by zero.\n",
      "Warning: Found 95 neuron(s) with a standard deviation of 0. Their z-scores will be calculated as (rate - mean) to avoid division by zero.\n",
      "Warning: Found 60 neuron(s) with a standard deviation of 0. Their z-scores will be calculated as (rate - mean) to avoid division by zero.\n",
      "Warning: Found 235 neuron(s) with a standard deviation of 0. Their z-scores will be calculated as (rate - mean) to avoid division by zero.\n"
     ]
    },
    {
     "name": "stderr",
     "output_type": "stream",
     "text": [
      "  9%|▉         | 1/11 [00:32<05:21, 32.19s/it]"
     ]
    },
    {
     "name": "stdout",
     "output_type": "stream",
     "text": [
      "Warning: Found 153 neuron(s) with a standard deviation of 0. Their z-scores will be calculated as (rate - mean) to avoid division by zero.\n",
      "Warning: Found 93 neuron(s) with a standard deviation of 0. Their z-scores will be calculated as (rate - mean) to avoid division by zero.\n",
      "Warning: Found 302 neuron(s) with a standard deviation of 0. Their z-scores will be calculated as (rate - mean) to avoid division by zero.\n"
     ]
    },
    {
     "name": "stderr",
     "output_type": "stream",
     "text": [
      " 18%|█▊        | 2/11 [00:48<03:25, 22.82s/it]"
     ]
    },
    {
     "name": "stdout",
     "output_type": "stream",
     "text": [
      "Warning: Found 55 neuron(s) with a standard deviation of 0. Their z-scores will be calculated as (rate - mean) to avoid division by zero.\n",
      "Warning: Found 32 neuron(s) with a standard deviation of 0. Their z-scores will be calculated as (rate - mean) to avoid division by zero.\n",
      "Warning: Found 43 neuron(s) with a standard deviation of 0. Their z-scores will be calculated as (rate - mean) to avoid division by zero.\n",
      "Warning: Found 95 neuron(s) with a standard deviation of 0. Their z-scores will be calculated as (rate - mean) to avoid division by zero.\n"
     ]
    },
    {
     "name": "stderr",
     "output_type": "stream",
     "text": [
      " 27%|██▋       | 3/11 [00:51<01:50, 13.80s/it]"
     ]
    },
    {
     "name": "stdout",
     "output_type": "stream",
     "text": [
      "Warning: Found 50 neuron(s) with a standard deviation of 0. Their z-scores will be calculated as (rate - mean) to avoid division by zero.\n",
      "Warning: Found 20 neuron(s) with a standard deviation of 0. Their z-scores will be calculated as (rate - mean) to avoid division by zero.\n",
      "Warning: Found 23 neuron(s) with a standard deviation of 0. Their z-scores will be calculated as (rate - mean) to avoid division by zero.\n"
     ]
    },
    {
     "name": "stderr",
     "output_type": "stream",
     "text": [
      " 36%|███▋      | 4/11 [01:04<01:34, 13.47s/it]"
     ]
    },
    {
     "name": "stdout",
     "output_type": "stream",
     "text": [
      "Warning: Found 71 neuron(s) with a standard deviation of 0. Their z-scores will be calculated as (rate - mean) to avoid division by zero.\n",
      "Warning: Found 54 neuron(s) with a standard deviation of 0. Their z-scores will be calculated as (rate - mean) to avoid division by zero.\n",
      "Warning: Found 55 neuron(s) with a standard deviation of 0. Their z-scores will be calculated as (rate - mean) to avoid division by zero.\n",
      "Warning: Found 213 neuron(s) with a standard deviation of 0. Their z-scores will be calculated as (rate - mean) to avoid division by zero.\n"
     ]
    },
    {
     "name": "stderr",
     "output_type": "stream",
     "text": [
      " 45%|████▌     | 5/11 [01:29<01:46, 17.73s/it]"
     ]
    },
    {
     "name": "stdout",
     "output_type": "stream",
     "text": [
      "Warning: Found 6 neuron(s) with a standard deviation of 0. Their z-scores will be calculated as (rate - mean) to avoid division by zero.\n",
      "Warning: Found 9 neuron(s) with a standard deviation of 0. Their z-scores will be calculated as (rate - mean) to avoid division by zero.\n",
      "Warning: Found 4 neuron(s) with a standard deviation of 0. Their z-scores will be calculated as (rate - mean) to avoid division by zero.\n",
      "Warning: Found 31 neuron(s) with a standard deviation of 0. Their z-scores will be calculated as (rate - mean) to avoid division by zero.\n"
     ]
    },
    {
     "name": "stderr",
     "output_type": "stream",
     "text": [
      " 55%|█████▍    | 6/11 [01:50<01:33, 18.73s/it]"
     ]
    },
    {
     "name": "stdout",
     "output_type": "stream",
     "text": [
      "Warning: Found 69 neuron(s) with a standard deviation of 0. Their z-scores will be calculated as (rate - mean) to avoid division by zero.\n",
      "Warning: Found 22 neuron(s) with a standard deviation of 0. Their z-scores will be calculated as (rate - mean) to avoid division by zero.\n",
      "Warning: Found 27 neuron(s) with a standard deviation of 0. Their z-scores will be calculated as (rate - mean) to avoid division by zero.\n"
     ]
    },
    {
     "name": "stderr",
     "output_type": "stream",
     "text": [
      " 64%|██████▎   | 7/11 [01:56<00:57, 14.44s/it]"
     ]
    },
    {
     "name": "stdout",
     "output_type": "stream",
     "text": [
      "Warning: Found 56 neuron(s) with a standard deviation of 0. Their z-scores will be calculated as (rate - mean) to avoid division by zero.\n",
      "Warning: Found 60 neuron(s) with a standard deviation of 0. Their z-scores will be calculated as (rate - mean) to avoid division by zero.\n",
      "Warning: Found 56 neuron(s) with a standard deviation of 0. Their z-scores will be calculated as (rate - mean) to avoid division by zero.\n"
     ]
    },
    {
     "name": "stderr",
     "output_type": "stream",
     "text": [
      " 73%|███████▎  | 8/11 [02:07<00:40, 13.58s/it]"
     ]
    },
    {
     "name": "stdout",
     "output_type": "stream",
     "text": [
      "Warning: Found 111 neuron(s) with a standard deviation of 0. Their z-scores will be calculated as (rate - mean) to avoid division by zero.\n",
      "Warning: Found 68 neuron(s) with a standard deviation of 0. Their z-scores will be calculated as (rate - mean) to avoid division by zero.\n",
      "Warning: Found 53 neuron(s) with a standard deviation of 0. Their z-scores will be calculated as (rate - mean) to avoid division by zero.\n",
      "Warning: Found 145 neuron(s) with a standard deviation of 0. Their z-scores will be calculated as (rate - mean) to avoid division by zero.\n"
     ]
    },
    {
     "name": "stderr",
     "output_type": "stream",
     "text": [
      " 82%|████████▏ | 9/11 [02:17<00:24, 12.31s/it]"
     ]
    },
    {
     "name": "stdout",
     "output_type": "stream",
     "text": [
      "Warning: Found 53 neuron(s) with a standard deviation of 0. Their z-scores will be calculated as (rate - mean) to avoid division by zero.\n",
      "Warning: Found 61 neuron(s) with a standard deviation of 0. Their z-scores will be calculated as (rate - mean) to avoid division by zero.\n",
      "Warning: Found 51 neuron(s) with a standard deviation of 0. Their z-scores will be calculated as (rate - mean) to avoid division by zero.\n"
     ]
    },
    {
     "name": "stderr",
     "output_type": "stream",
     "text": [
      " 91%|█████████ | 10/11 [02:26<00:11, 11.43s/it]"
     ]
    },
    {
     "name": "stdout",
     "output_type": "stream",
     "text": [
      "Warning: Found 21 neuron(s) with a standard deviation of 0. Their z-scores will be calculated as (rate - mean) to avoid division by zero.\n",
      "Warning: Found 12 neuron(s) with a standard deviation of 0. Their z-scores will be calculated as (rate - mean) to avoid division by zero.\n",
      "Warning: Found 8 neuron(s) with a standard deviation of 0. Their z-scores will be calculated as (rate - mean) to avoid division by zero.\n",
      "Warning: Found 38 neuron(s) with a standard deviation of 0. Their z-scores will be calculated as (rate - mean) to avoid division by zero.\n"
     ]
    },
    {
     "name": "stderr",
     "output_type": "stream",
     "text": [
      "100%|██████████| 11/11 [02:29<00:00,  8.87s/it]"
     ]
    }
   ],
   "source": [
    "#session_path = '/home/tony/Halluci-Nations/scratch/ecephys_717033_2024-06-04_13-01-40_nwb_2025-08-03_21-11-22/'\n",
    "dat_spike_paths = '/home/tony/Halluci-Nations/scratch/'\n",
    "pbar = tqdm(total = len(os.listdir(dat_spike_paths)),leave=True,position=0)\n",
    "for main_path in os.listdir(dat_spike_paths):\n",
    "    try:\n",
    "        main_path = os.path.join(dat_spike_paths,main_path)\n",
    "        test_session = hu_RFmapping_fr_matrices(main_path)\n",
    "        test_session.load_data()\n",
    "        test_session.get_vis_epochs_keys()\n",
    "        test_session.get_cor_matrices()\n",
    "        test_session.comput_mean_fr()\n",
    "        test_session.gen_rf_maps()\n",
    "        test_session.get_tunning_curves()\n",
    "        test_session.get_tunning_csv()\n",
    "        #import sys; sys.exit()\n",
    "    except Exception as e:\n",
    "        print(main_path)\n",
    "        print(e)\n",
    "    pbar.update(1)"
   ]
  },
  {
   "cell_type": "code",
   "execution_count": 4,
   "id": "122049f7",
   "metadata": {},
   "outputs": [
    {
     "name": "stdout",
     "output_type": "stream",
     "text": [
      "Warning: Found 173 neuron(s) with a standard deviation of 0. Their z-scores will be set to 0.\n",
      "Warning: Found 91 neuron(s) with a standard deviation of 0. Their z-scores will be set to 0.\n",
      "Warning: Found 55 neuron(s) with a standard deviation of 0. Their z-scores will be set to 0.\n",
      "Warning: Found 226 neuron(s) with a standard deviation of 0. Their z-scores will be set to 0.\n"
     ]
    }
   ],
   "source": [
    "zscored_fr = {}\n",
    "for vis_epoch in test_session.vis_epochs:\n",
    "    session = test_session.trial_data[vis_epoch]\n",
    "    baseline = session[(7777,7777,7777)]\n",
    "    means = np.mean(baseline,axis=1)\n",
    "    stds = np.std(baseline,axis=1)\n",
    "    r_sess = test_session.mean_fr[vis_epoch]\n",
    "    zscored = sr.calculate_per_neuron_zscore(r_sess,means,stds)\n",
    "    zscored_fr[vis_epoch] = zscored"
   ]
  },
  {
   "cell_type": "code",
   "execution_count": 17,
   "id": "ed5367d1",
   "metadata": {},
   "outputs": [
    {
     "data": {
      "text/plain": [
       "['RFMapping_0', 'RFMapping_1', 'RFMapping_2', 'RFMapping_3']"
      ]
     },
     "execution_count": 17,
     "metadata": {},
     "output_type": "execute_result"
    }
   ],
   "source": [
    "test_session.vis_epochs"
   ]
  },
  {
   "cell_type": "code",
   "execution_count": 16,
   "id": "7d8b533d",
   "metadata": {},
   "outputs": [
    {
     "name": "stdout",
     "output_type": "stream",
     "text": [
      "Warning: Found 173 neuron(s) with a standard deviation of 0. Their z-scores will be calculated as (rate - mean) to avoid division by zero.\n"
     ]
    }
   ],
   "source": [
    "zscored = sr.calculate_per_neuron_zscore(r_sess,means,stds)"
   ]
  },
  {
   "cell_type": "code",
   "execution_count": null,
   "id": "440e595a",
   "metadata": {},
   "outputs": [],
   "source": [
    "zscored[()]"
   ]
  },
  {
   "cell_type": "code",
   "execution_count": null,
   "id": "7c4fdafa",
   "metadata": {},
   "outputs": [],
   "source": [
    "r_sess = test_session.mean_fr['RFMapping_0']\n",
    "mean = r_sess[(7777,7777,7777)] # array of neurons mean firing rate\n",
    "#do zscore of baseline to all other keys which contain neurons\n",
    "\n"
   ]
  },
  {
   "cell_type": "code",
   "execution_count": 13,
   "id": "b0fd4c44",
   "metadata": {},
   "outputs": [
    {
     "data": {
      "text/plain": [
       "(1101,)"
      ]
     },
     "execution_count": 13,
     "metadata": {},
     "output_type": "execute_result"
    }
   ],
   "source": [
    "baseline.shape"
   ]
  },
  {
   "cell_type": "code",
   "execution_count": 11,
   "id": "2f3f4432",
   "metadata": {},
   "outputs": [
    {
     "data": {
      "text/plain": [
       "array([8.19493007e-03, 1.33850524e-01, 5.17646416e+00, ...,\n",
       "       2.73164336e-03, 3.27797203e-02, 2.73164336e-03], shape=(1101,))"
      ]
     },
     "execution_count": 11,
     "metadata": {},
     "output_type": "execute_result"
    }
   ],
   "source": [
    "np.mean(baseline,axis=1)"
   ]
  },
  {
   "cell_type": "code",
   "execution_count": null,
   "id": "6603fae8",
   "metadata": {},
   "outputs": [
    {
     "data": {
      "text/plain": [
       "array([8.19493007e-03, 1.33850524e-01, 5.17646416e+00, ...,\n",
       "       2.73164336e-03, 3.27797203e-02, 2.73164336e-03], shape=(1101,))"
      ]
     },
     "execution_count": 7,
     "metadata": {},
     "output_type": "execute_result"
    }
   ],
   "source": [
    "baseline"
   ]
  },
  {
   "cell_type": "code",
   "execution_count": null,
   "id": "5c0d47a4",
   "metadata": {},
   "outputs": [],
   "source": [
    "self.trial_data[vis_epochs]"
   ]
  }
 ],
 "metadata": {
  "kernelspec": {
   "display_name": "brainsformer",
   "language": "python",
   "name": "python3"
  },
  "language_info": {
   "codemirror_mode": {
    "name": "ipython",
    "version": 3
   },
   "file_extension": ".py",
   "mimetype": "text/x-python",
   "name": "python",
   "nbconvert_exporter": "python",
   "pygments_lexer": "ipython3",
   "version": "3.10.18"
  }
 },
 "nbformat": 4,
 "nbformat_minor": 5
}
