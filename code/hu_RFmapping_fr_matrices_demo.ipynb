{
 "cells": [
  {
   "cell_type": "code",
   "execution_count": null,
   "id": "e3537bb0-c693-4da5-94e0-d1d65b51dc0c",
   "metadata": {
    "tags": []
   },
   "outputs": [],
   "source": [
    "import os\n",
    "import matplotlib.pyplot as plt\n",
    "import seaborn as sns\n",
    "from tqdm import tqdm \n",
    "import utils.plot_utils as plu\n",
    "from tqdm import tqdm\n",
    "from hu_RFmapping_fr_matrices import hu_RFmapping_fr_matrices\n",
    "import numpy as np\n",
    "import pandas as pd"
   ]
  },
  {
   "cell_type": "code",
   "execution_count": 4,
   "id": "efdd7c36-a784-40b0-8417-7c0e09bfe2d7",
   "metadata": {
    "tags": []
   },
   "outputs": [
    {
     "name": "stderr",
     "output_type": "stream",
     "text": [
      "  0%|          | 0/12 [00:38<?, ?it/s]\n",
      " 17%|█▋        | 2/12 [00:39<02:56, 17.67s/it]"
     ]
    },
    {
     "name": "stdout",
     "output_type": "stream",
     "text": [
      "/home/tony/Halluci-Nations/scratch/ecephys_714789_2024-05-17_11-47-07_nwb_2025-08-03_21-11-22\n",
      "[Errno 2] No such file or directory: '/home/tony/Halluci-Nations/scratch/ecephys_714789_2024-05-17_11-47-07_nwb_2025-08-03_21-11-22/data.pkl'\n"
     ]
    },
    {
     "name": "stderr",
     "output_type": "stream",
     "text": [
      "100%|██████████| 12/12 [01:57<00:00,  7.40s/it]"
     ]
    }
   ],
   "source": [
    "#session_path = '/home/tony/Halluci-Nations/scratch/ecephys_717033_2024-06-04_13-01-40_nwb_2025-08-03_21-11-22/'\n",
    "dat_spike_paths = '/home/tony/Halluci-Nations/scratch/'\n",
    "pbar = tqdm(total = len(os.listdir(dat_spike_paths)),leave=True,position=0)\n",
    "for main_path in os.listdir(dat_spike_paths):\n",
    "    try:\n",
    "        main_path = os.path.join(dat_spike_paths,main_path)\n",
    "        test_session = hu_RFmapping_fr_matrices(main_path)\n",
    "        test_session.load_data()\n",
    "        test_session.get_vis_epochs_keys()\n",
    "        test_session.get_cor_matrices()\n",
    "        test_session.comput_mean_fr()\n",
    "        test_session.gen_rf_maps()\n",
    "        test_session.get_tunning_curves()\n",
    "        test_session.get_tunning_csv()\n",
    "    except Exception as e:\n",
    "        print(main_path)\n",
    "        print(e)\n",
    "    pbar.update(1)"
   ]
  }
 ],
 "metadata": {
  "kernelspec": {
   "display_name": "brainsformer",
   "language": "python",
   "name": "python3"
  },
  "language_info": {
   "codemirror_mode": {
    "name": "ipython",
    "version": 3
   },
   "file_extension": ".py",
   "mimetype": "text/x-python",
   "name": "python",
   "nbconvert_exporter": "python",
   "pygments_lexer": "ipython3",
   "version": "3.10.18"
  }
 },
 "nbformat": 4,
 "nbformat_minor": 5
}
