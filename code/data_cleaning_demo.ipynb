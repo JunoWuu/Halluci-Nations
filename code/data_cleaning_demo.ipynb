{
 "cells": [
  {
   "cell_type": "code",
   "execution_count": 1,
   "id": "946cf14d-9352-44c3-b286-2f84c4bab5e0",
   "metadata": {
    "tags": []
   },
   "outputs": [],
   "source": [
    "import os\n",
    "import pandas as pd \n",
    "import pickle\n",
    "from tqdm import tqdm \n",
    "import data_extraction as datrac"
   ]
  },
  {
   "cell_type": "code",
   "execution_count": 2,
   "id": "4b5c0f93-14c2-4a7a-958c-0da16e145352",
   "metadata": {
    "tags": []
   },
   "outputs": [],
   "source": [
    "main_path = '/scratch/ecephys_714527_2024-05-15_13-00-23_nwb_2025-08-03_21-11-22/'\n",
    "time_res = 0.01\n",
    "bin_size = time_res\n",
    "data_path = os.path.join(main_path,'data.pkl')\n",
    "epoch_path = os.path.join(main_path,'epochs.pkl')\n",
    "photostim_path = os.path.join(main_path,'photostim.pkl')\n",
    "visualstim_path = os.path.join(main_path,'visualstim.pkl')"
   ]
  },
  {
   "cell_type": "code",
   "execution_count": 3,
   "id": "4d44dcd0-c949-432c-b9ed-acac7809a2e3",
   "metadata": {
    "tags": []
   },
   "outputs": [],
   "source": [
    "df_data = pd.read_pickle(data_path)\n",
    "df_epoch = pd.read_pickle(epoch_path)\n",
    "df_photostim = pd.read_pickle(photostim_path)\n",
    "df_visualstim = pd.read_pickle(visualstim_path)"
   ]
  },
  {
   "cell_type": "code",
   "execution_count": 4,
   "id": "a1403fe9-d629-406c-9e7b-542f12cbcc43",
   "metadata": {
    "tags": []
   },
   "outputs": [
    {
     "name": "stderr",
     "output_type": "stream",
     "text": [
      "Processing Trials: 100%|██████████| 2322/2322 [00:03<00:00, 662.07it/s]\n"
     ]
    },
    {
     "name": "stdout",
     "output_type": "stream",
     "text": [
      "Processing for RFMapping_0 complete. Files saved in /scratch/RFMapping_0/raw\n",
      "Starting parallel processing with 16 cores...\n"
     ]
    },
    {
     "name": "stderr",
     "output_type": "stream",
     "text": [
      "100%|██████████| 2322/2322 [00:19<00:00, 119.98it/s]\n"
     ]
    },
    {
     "name": "stdout",
     "output_type": "stream",
     "text": [
      "\n",
      "--- Processing Log ---\n",
      "All files processed successfully.\n",
      "----------------------\n"
     ]
    },
    {
     "name": "stderr",
     "output_type": "stream",
     "text": [
      "Processing Trials: 100%|██████████| 2322/2322 [00:03<00:00, 656.60it/s]\n"
     ]
    },
    {
     "name": "stdout",
     "output_type": "stream",
     "text": [
      "Processing for RFMapping_1 complete. Files saved in /scratch/RFMapping_1/raw\n",
      "Starting parallel processing with 16 cores...\n"
     ]
    },
    {
     "name": "stderr",
     "output_type": "stream",
     "text": [
      "100%|██████████| 2322/2322 [00:19<00:00, 118.74it/s]\n"
     ]
    },
    {
     "name": "stdout",
     "output_type": "stream",
     "text": [
      "\n",
      "--- Processing Log ---\n",
      "All files processed successfully.\n",
      "----------------------\n"
     ]
    },
    {
     "name": "stderr",
     "output_type": "stream",
     "text": [
      "Processing Trials: 100%|██████████| 2322/2322 [00:03<00:00, 615.36it/s]\n"
     ]
    },
    {
     "name": "stdout",
     "output_type": "stream",
     "text": [
      "Processing for RFMapping_2 complete. Files saved in /scratch/RFMapping_2/raw\n",
      "Starting parallel processing with 16 cores...\n"
     ]
    },
    {
     "name": "stderr",
     "output_type": "stream",
     "text": [
      "100%|██████████| 2322/2322 [00:19<00:00, 118.25it/s]\n"
     ]
    },
    {
     "name": "stdout",
     "output_type": "stream",
     "text": [
      "\n",
      "--- Processing Log ---\n",
      "All files processed successfully.\n",
      "----------------------\n"
     ]
    },
    {
     "ename": "NameError",
     "evalue": "name 'sr' is not defined",
     "output_type": "error",
     "traceback": [
      "\u001b[0;31m---------------------------------------------------------------------------\u001b[0m",
      "\u001b[0;31mNameError\u001b[0m                                 Traceback (most recent call last)",
      "Cell \u001b[0;32mIn[4], line 19\u001b[0m\n\u001b[1;32m     17\u001b[0m trial_path \u001b[38;5;241m=\u001b[39m os\u001b[38;5;241m.\u001b[39mpath\u001b[38;5;241m.\u001b[39mjoin(epochs_path,\u001b[38;5;124m'\u001b[39m\u001b[38;5;124mtrial_info.csv\u001b[39m\u001b[38;5;124m'\u001b[39m)\n\u001b[1;32m     18\u001b[0m df_trials \u001b[38;5;241m=\u001b[39m pd\u001b[38;5;241m.\u001b[39mread_csv(trial_path,index_col\u001b[38;5;241m=\u001b[39m\u001b[38;5;124m'\u001b[39m\u001b[38;5;124mUnnamed: 0\u001b[39m\u001b[38;5;124m'\u001b[39m)\n\u001b[0;32m---> 19\u001b[0m index_map \u001b[38;5;241m=\u001b[39m \u001b[43msr\u001b[49m\u001b[38;5;241m.\u001b[39mget_index_maps(df_trials)\n\u001b[1;32m     20\u001b[0m results_dic \u001b[38;5;241m=\u001b[39m{}\n\u001b[1;32m     21\u001b[0m pbar \u001b[38;5;241m=\u001b[39m tqdm(total \u001b[38;5;241m=\u001b[39m \u001b[38;5;28mlen\u001b[39m(index_map\u001b[38;5;241m.\u001b[39mkeys()),leave\u001b[38;5;241m=\u001b[39m\u001b[38;5;28;01mTrue\u001b[39;00m, position\u001b[38;5;241m=\u001b[39m\u001b[38;5;241m0\u001b[39m)\n",
      "\u001b[0;31mNameError\u001b[0m: name 'sr' is not defined"
     ]
    }
   ],
   "source": [
    "# extract the timging for each events\n",
    "#stim_ep = 'RFMapping_1'\n",
    "stims_eps = ['RFMapping_0','RFMapping_1','RFMapping_2']\n",
    "for stim_ep in stims_eps:\n",
    "    df_map_save  =  f'{main_path}{stim_ep}/'\n",
    "    stim_ep_path = f'{df_map_save}raw'\n",
    "    save_path = f'/scratch/{stim_ep}/firing_rate2'\n",
    "    df_interest = datrac.update_stim_eps_end_time(df_visualstim,stim_ep)\n",
    "    df_interest.to_csv(os.path.join(df_map_save,'trial_info.csv'))\n",
    "    datrac.extract_spikes_times_parallel_optimized(df_data,df_interest, stim_ep, main_path)\n",
    "    datrac.parallel_bin_spikes(stim_ep_path, save_path, time_res, num_processes=None)"
   ]
  },
  {
   "cell_type": "code",
   "execution_count": null,
   "id": "0f6d259b-70b1-4a23-913f-3393f05ee215",
   "metadata": {},
   "outputs": [],
   "source": []
  }
 ],
 "metadata": {
  "kernelspec": {
   "display_name": "Python 3 (ipykernel)",
   "language": "python",
   "name": "python3"
  },
  "language_info": {
   "codemirror_mode": {
    "name": "ipython",
    "version": 3
   },
   "file_extension": ".py",
   "mimetype": "text/x-python",
   "name": "python",
   "nbconvert_exporter": "python",
   "pygments_lexer": "ipython3",
   "version": "3.10.12"
  }
 },
 "nbformat": 4,
 "nbformat_minor": 5
}
