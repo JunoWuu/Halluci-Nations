{
 "cells": [
  {
   "cell_type": "code",
   "execution_count": 11,
   "id": "946cf14d-9352-44c3-b286-2f84c4bab5e0",
   "metadata": {
    "tags": []
   },
   "outputs": [],
   "source": [
    "import os\n",
    "import pandas as pd \n",
    "import pickle\n",
    "from tqdm import tqdm \n",
    "import utils.data_extraction as datrac"
   ]
  },
  {
   "cell_type": "code",
   "execution_count": 12,
   "id": "04ab3c72",
   "metadata": {},
   "outputs": [
    {
     "name": "stderr",
     "output_type": "stream",
     "text": [
      "Processing Trials: 100%|██████████| 2322/2322 [00:02<00:00, 1120.22it/s]\n"
     ]
    },
    {
     "name": "stdout",
     "output_type": "stream",
     "text": [
      "Processing for RFMapping_0 complete. Files saved in /home/tony/Halluci-Nations/scratch/ecephys_717036_2024-06-06_12-32-42_nwb_2025-08-03_21-11-22/RFMapping_0/raw\n",
      "Starting parallel processing with 16 cores...\n"
     ]
    },
    {
     "name": "stderr",
     "output_type": "stream",
     "text": [
      "100%|██████████| 2322/2322 [00:08<00:00, 274.17it/s]\n"
     ]
    },
    {
     "name": "stdout",
     "output_type": "stream",
     "text": [
      "\n",
      "--- Processing Log ---\n",
      "All files processed successfully.\n",
      "----------------------\n"
     ]
    },
    {
     "name": "stderr",
     "output_type": "stream",
     "text": [
      "Processing Trials: 100%|██████████| 2322/2322 [00:02<00:00, 1121.87it/s]\n"
     ]
    },
    {
     "name": "stdout",
     "output_type": "stream",
     "text": [
      "Processing for RFMapping_1 complete. Files saved in /home/tony/Halluci-Nations/scratch/ecephys_717036_2024-06-06_12-32-42_nwb_2025-08-03_21-11-22/RFMapping_1/raw\n",
      "Starting parallel processing with 16 cores...\n"
     ]
    },
    {
     "name": "stderr",
     "output_type": "stream",
     "text": [
      "100%|██████████| 2322/2322 [00:08<00:00, 275.01it/s]\n"
     ]
    },
    {
     "name": "stdout",
     "output_type": "stream",
     "text": [
      "\n",
      "--- Processing Log ---\n",
      "All files processed successfully.\n",
      "----------------------\n"
     ]
    },
    {
     "name": "stderr",
     "output_type": "stream",
     "text": [
      "Processing Trials: 100%|██████████| 2322/2322 [00:02<00:00, 1087.96it/s]\n"
     ]
    },
    {
     "name": "stdout",
     "output_type": "stream",
     "text": [
      "Processing for RFMapping_2 complete. Files saved in /home/tony/Halluci-Nations/scratch/ecephys_717036_2024-06-06_12-32-42_nwb_2025-08-03_21-11-22/RFMapping_2/raw\n",
      "Starting parallel processing with 16 cores...\n"
     ]
    },
    {
     "name": "stderr",
     "output_type": "stream",
     "text": [
      "100%|██████████| 2322/2322 [00:08<00:00, 268.75it/s]\n"
     ]
    },
    {
     "name": "stdout",
     "output_type": "stream",
     "text": [
      "\n",
      "--- Processing Log ---\n",
      "All files processed successfully.\n",
      "----------------------\n"
     ]
    },
    {
     "name": "stderr",
     "output_type": "stream",
     "text": [
      "Processing Trials: 100%|██████████| 1161/1161 [00:00<00:00, 1827.05it/s]\n"
     ]
    },
    {
     "name": "stdout",
     "output_type": "stream",
     "text": [
      "Processing for RFMapping_3 complete. Files saved in /home/tony/Halluci-Nations/scratch/ecephys_717036_2024-06-06_12-32-42_nwb_2025-08-03_21-11-22/RFMapping_3/raw\n",
      "Starting parallel processing with 16 cores...\n"
     ]
    },
    {
     "name": "stderr",
     "output_type": "stream",
     "text": [
      "100%|██████████| 1161/1161 [00:04<00:00, 273.25it/s]\n"
     ]
    },
    {
     "name": "stdout",
     "output_type": "stream",
     "text": [
      "\n",
      "--- Processing Log ---\n",
      "All files processed successfully.\n",
      "----------------------\n"
     ]
    },
    {
     "name": "stderr",
     "output_type": "stream",
     "text": [
      "Processing Trials: 100%|██████████| 2322/2322 [00:01<00:00, 1652.59it/s]\n"
     ]
    },
    {
     "name": "stdout",
     "output_type": "stream",
     "text": [
      "Processing for RFMapping_0 complete. Files saved in /home/tony/Halluci-Nations/scratch/ecephys_717033_2024-06-05_12-36-57_nwb_2025-08-03_21-11-22/RFMapping_0/raw\n",
      "Starting parallel processing with 16 cores...\n"
     ]
    },
    {
     "name": "stderr",
     "output_type": "stream",
     "text": [
      "100%|██████████| 2322/2322 [00:07<00:00, 314.96it/s]\n"
     ]
    },
    {
     "name": "stdout",
     "output_type": "stream",
     "text": [
      "\n",
      "--- Processing Log ---\n",
      "All files processed successfully.\n",
      "----------------------\n"
     ]
    },
    {
     "name": "stderr",
     "output_type": "stream",
     "text": [
      "Processing Trials: 100%|██████████| 2322/2322 [00:01<00:00, 1574.08it/s]\n"
     ]
    },
    {
     "name": "stdout",
     "output_type": "stream",
     "text": [
      "Processing for RFMapping_1 complete. Files saved in /home/tony/Halluci-Nations/scratch/ecephys_717033_2024-06-05_12-36-57_nwb_2025-08-03_21-11-22/RFMapping_1/raw\n",
      "Starting parallel processing with 16 cores...\n"
     ]
    },
    {
     "name": "stderr",
     "output_type": "stream",
     "text": [
      "100%|██████████| 2322/2322 [00:07<00:00, 312.77it/s]\n"
     ]
    },
    {
     "name": "stdout",
     "output_type": "stream",
     "text": [
      "\n",
      "--- Processing Log ---\n",
      "All files processed successfully.\n",
      "----------------------\n"
     ]
    },
    {
     "name": "stderr",
     "output_type": "stream",
     "text": [
      "Processing Trials: 100%|██████████| 2322/2322 [00:01<00:00, 1617.34it/s]\n"
     ]
    },
    {
     "name": "stdout",
     "output_type": "stream",
     "text": [
      "Processing for RFMapping_2 complete. Files saved in /home/tony/Halluci-Nations/scratch/ecephys_717033_2024-06-05_12-36-57_nwb_2025-08-03_21-11-22/RFMapping_2/raw\n",
      "Starting parallel processing with 16 cores...\n"
     ]
    },
    {
     "name": "stderr",
     "output_type": "stream",
     "text": [
      "100%|██████████| 2322/2322 [00:07<00:00, 312.36it/s]\n"
     ]
    },
    {
     "name": "stdout",
     "output_type": "stream",
     "text": [
      "\n",
      "--- Processing Log ---\n",
      "All files processed successfully.\n",
      "----------------------\n"
     ]
    },
    {
     "name": "stderr",
     "output_type": "stream",
     "text": [
      "Processing Trials: 100%|██████████| 2322/2322 [00:00<00:00, 3316.23it/s]\n"
     ]
    },
    {
     "name": "stdout",
     "output_type": "stream",
     "text": [
      "Processing for RFMapping_0 complete. Files saved in /home/tony/Halluci-Nations/scratch/ecephys_717033_2024-06-04_13-01-40_nwb_2025-08-03_21-11-22/RFMapping_0/raw\n",
      "Starting parallel processing with 16 cores...\n"
     ]
    },
    {
     "name": "stderr",
     "output_type": "stream",
     "text": [
      "100%|██████████| 2322/2322 [00:02<00:00, 830.34it/s]\n"
     ]
    },
    {
     "name": "stdout",
     "output_type": "stream",
     "text": [
      "\n",
      "--- Processing Log ---\n",
      "All files processed successfully.\n",
      "----------------------\n"
     ]
    },
    {
     "name": "stderr",
     "output_type": "stream",
     "text": [
      "Processing Trials: 100%|██████████| 2322/2322 [00:00<00:00, 3366.42it/s]\n"
     ]
    },
    {
     "name": "stdout",
     "output_type": "stream",
     "text": [
      "Processing for RFMapping_1 complete. Files saved in /home/tony/Halluci-Nations/scratch/ecephys_717033_2024-06-04_13-01-40_nwb_2025-08-03_21-11-22/RFMapping_1/raw\n",
      "Starting parallel processing with 16 cores...\n"
     ]
    },
    {
     "name": "stderr",
     "output_type": "stream",
     "text": [
      "100%|██████████| 2322/2322 [00:02<00:00, 818.21it/s]\n"
     ]
    },
    {
     "name": "stdout",
     "output_type": "stream",
     "text": [
      "\n",
      "--- Processing Log ---\n",
      "All files processed successfully.\n",
      "----------------------\n"
     ]
    },
    {
     "name": "stderr",
     "output_type": "stream",
     "text": [
      "Processing Trials: 100%|██████████| 2322/2322 [00:00<00:00, 2998.31it/s]\n"
     ]
    },
    {
     "name": "stdout",
     "output_type": "stream",
     "text": [
      "Processing for RFMapping_2 complete. Files saved in /home/tony/Halluci-Nations/scratch/ecephys_717033_2024-06-04_13-01-40_nwb_2025-08-03_21-11-22/RFMapping_2/raw\n",
      "Starting parallel processing with 16 cores...\n"
     ]
    },
    {
     "name": "stderr",
     "output_type": "stream",
     "text": [
      "100%|██████████| 2322/2322 [00:02<00:00, 801.47it/s]\n"
     ]
    },
    {
     "name": "stdout",
     "output_type": "stream",
     "text": [
      "\n",
      "--- Processing Log ---\n",
      "All files processed successfully.\n",
      "----------------------\n"
     ]
    },
    {
     "name": "stderr",
     "output_type": "stream",
     "text": [
      "Processing Trials: 100%|██████████| 1161/1161 [00:00<00:00, 5193.20it/s]\n"
     ]
    },
    {
     "name": "stdout",
     "output_type": "stream",
     "text": [
      "Processing for RFMapping_3 complete. Files saved in /home/tony/Halluci-Nations/scratch/ecephys_717033_2024-06-04_13-01-40_nwb_2025-08-03_21-11-22/RFMapping_3/raw\n",
      "Starting parallel processing with 16 cores...\n"
     ]
    },
    {
     "name": "stderr",
     "output_type": "stream",
     "text": [
      "100%|██████████| 1161/1161 [00:01<00:00, 897.20it/s]\n"
     ]
    },
    {
     "name": "stdout",
     "output_type": "stream",
     "text": [
      "\n",
      "--- Processing Log ---\n",
      "All files processed successfully.\n",
      "----------------------\n"
     ]
    },
    {
     "name": "stderr",
     "output_type": "stream",
     "text": [
      "Processing Trials: 100%|██████████| 2322/2322 [00:01<00:00, 1497.73it/s]\n"
     ]
    },
    {
     "name": "stdout",
     "output_type": "stream",
     "text": [
      "Processing for RFMapping_0 complete. Files saved in /home/tony/Halluci-Nations/scratch/ecephys_730049_2024-06-14_12-07-57_nwb_2025-08-03_21-11-22/RFMapping_0/raw\n",
      "Starting parallel processing with 16 cores...\n"
     ]
    },
    {
     "name": "stderr",
     "output_type": "stream",
     "text": [
      "100%|██████████| 2322/2322 [00:06<00:00, 344.25it/s]\n"
     ]
    },
    {
     "name": "stdout",
     "output_type": "stream",
     "text": [
      "\n",
      "--- Processing Log ---\n",
      "All files processed successfully.\n",
      "----------------------\n"
     ]
    },
    {
     "name": "stderr",
     "output_type": "stream",
     "text": [
      "Processing Trials: 100%|██████████| 2322/2322 [00:01<00:00, 1484.35it/s]\n"
     ]
    },
    {
     "name": "stdout",
     "output_type": "stream",
     "text": [
      "Processing for RFMapping_1 complete. Files saved in /home/tony/Halluci-Nations/scratch/ecephys_730049_2024-06-14_12-07-57_nwb_2025-08-03_21-11-22/RFMapping_1/raw\n",
      "Starting parallel processing with 16 cores...\n"
     ]
    },
    {
     "name": "stderr",
     "output_type": "stream",
     "text": [
      "100%|██████████| 2322/2322 [00:06<00:00, 338.78it/s]\n"
     ]
    },
    {
     "name": "stdout",
     "output_type": "stream",
     "text": [
      "\n",
      "--- Processing Log ---\n",
      "All files processed successfully.\n",
      "----------------------\n"
     ]
    },
    {
     "name": "stderr",
     "output_type": "stream",
     "text": [
      "Processing Trials: 100%|██████████| 2322/2322 [00:01<00:00, 1365.29it/s]\n"
     ]
    },
    {
     "name": "stdout",
     "output_type": "stream",
     "text": [
      "Processing for RFMapping_2 complete. Files saved in /home/tony/Halluci-Nations/scratch/ecephys_730049_2024-06-14_12-07-57_nwb_2025-08-03_21-11-22/RFMapping_2/raw\n",
      "Starting parallel processing with 16 cores...\n"
     ]
    },
    {
     "name": "stderr",
     "output_type": "stream",
     "text": [
      "100%|██████████| 2322/2322 [00:06<00:00, 345.39it/s]\n"
     ]
    },
    {
     "name": "stdout",
     "output_type": "stream",
     "text": [
      "\n",
      "--- Processing Log ---\n",
      "All files processed successfully.\n",
      "----------------------\n"
     ]
    },
    {
     "name": "stderr",
     "output_type": "stream",
     "text": [
      "Processing Trials: 100%|██████████| 2322/2322 [00:02<00:00, 1101.81it/s]\n"
     ]
    },
    {
     "name": "stdout",
     "output_type": "stream",
     "text": [
      "Processing for RFMapping_0 complete. Files saved in /home/tony/Halluci-Nations/scratch/ecephys_730049_2024-06-13_12-53-21_nwb_2025-08-03_21-11-22/RFMapping_0/raw\n",
      "Starting parallel processing with 16 cores...\n"
     ]
    },
    {
     "name": "stderr",
     "output_type": "stream",
     "text": [
      "100%|██████████| 2322/2322 [00:08<00:00, 286.20it/s]\n"
     ]
    },
    {
     "name": "stdout",
     "output_type": "stream",
     "text": [
      "\n",
      "--- Processing Log ---\n",
      "All files processed successfully.\n",
      "----------------------\n"
     ]
    },
    {
     "name": "stderr",
     "output_type": "stream",
     "text": [
      "Processing Trials: 100%|██████████| 2322/2322 [00:02<00:00, 943.31it/s]\n"
     ]
    },
    {
     "name": "stdout",
     "output_type": "stream",
     "text": [
      "Processing for RFMapping_1 complete. Files saved in /home/tony/Halluci-Nations/scratch/ecephys_730049_2024-06-13_12-53-21_nwb_2025-08-03_21-11-22/RFMapping_1/raw\n",
      "Starting parallel processing with 16 cores...\n"
     ]
    },
    {
     "name": "stderr",
     "output_type": "stream",
     "text": [
      "100%|██████████| 2322/2322 [00:08<00:00, 278.35it/s]\n"
     ]
    },
    {
     "name": "stdout",
     "output_type": "stream",
     "text": [
      "\n",
      "--- Processing Log ---\n",
      "All files processed successfully.\n",
      "----------------------\n"
     ]
    },
    {
     "name": "stderr",
     "output_type": "stream",
     "text": [
      "Processing Trials: 100%|██████████| 2322/2322 [00:02<00:00, 1045.15it/s]\n"
     ]
    },
    {
     "name": "stdout",
     "output_type": "stream",
     "text": [
      "Processing for RFMapping_2 complete. Files saved in /home/tony/Halluci-Nations/scratch/ecephys_730049_2024-06-13_12-53-21_nwb_2025-08-03_21-11-22/RFMapping_2/raw\n",
      "Starting parallel processing with 16 cores...\n"
     ]
    },
    {
     "name": "stderr",
     "output_type": "stream",
     "text": [
      "100%|██████████| 2322/2322 [00:08<00:00, 280.74it/s]\n"
     ]
    },
    {
     "name": "stdout",
     "output_type": "stream",
     "text": [
      "\n",
      "--- Processing Log ---\n",
      "All files processed successfully.\n",
      "----------------------\n"
     ]
    },
    {
     "name": "stderr",
     "output_type": "stream",
     "text": [
      "Processing Trials: 100%|██████████| 1161/1161 [00:00<00:00, 2030.98it/s]\n"
     ]
    },
    {
     "name": "stdout",
     "output_type": "stream",
     "text": [
      "Processing for RFMapping_3 complete. Files saved in /home/tony/Halluci-Nations/scratch/ecephys_730049_2024-06-13_12-53-21_nwb_2025-08-03_21-11-22/RFMapping_3/raw\n",
      "Starting parallel processing with 16 cores...\n"
     ]
    },
    {
     "name": "stderr",
     "output_type": "stream",
     "text": [
      "100%|██████████| 1161/1161 [00:03<00:00, 299.40it/s]\n"
     ]
    },
    {
     "name": "stdout",
     "output_type": "stream",
     "text": [
      "\n",
      "--- Processing Log ---\n",
      "All files processed successfully.\n",
      "----------------------\n"
     ]
    },
    {
     "name": "stderr",
     "output_type": "stream",
     "text": [
      "Processing Trials: 100%|██████████| 2322/2322 [00:02<00:00, 1134.99it/s]\n"
     ]
    },
    {
     "name": "stdout",
     "output_type": "stream",
     "text": [
      "Processing for RFMapping_0 complete. Files saved in /home/tony/Halluci-Nations/scratch/ecephys_714789_2024-05-16_13-16-59_nwb_2025-08-03_21-11-22/RFMapping_0/raw\n",
      "Starting parallel processing with 16 cores...\n"
     ]
    },
    {
     "name": "stderr",
     "output_type": "stream",
     "text": [
      "100%|██████████| 2322/2322 [00:07<00:00, 301.91it/s]\n"
     ]
    },
    {
     "name": "stdout",
     "output_type": "stream",
     "text": [
      "\n",
      "--- Processing Log ---\n",
      "All files processed successfully.\n",
      "----------------------\n"
     ]
    },
    {
     "name": "stderr",
     "output_type": "stream",
     "text": [
      "Processing Trials: 100%|██████████| 2322/2322 [00:02<00:00, 956.78it/s]\n"
     ]
    },
    {
     "name": "stdout",
     "output_type": "stream",
     "text": [
      "Processing for RFMapping_1 complete. Files saved in /home/tony/Halluci-Nations/scratch/ecephys_714789_2024-05-16_13-16-59_nwb_2025-08-03_21-11-22/RFMapping_1/raw\n",
      "Starting parallel processing with 16 cores...\n"
     ]
    },
    {
     "name": "stderr",
     "output_type": "stream",
     "text": [
      "100%|██████████| 2322/2322 [00:07<00:00, 296.71it/s]\n"
     ]
    },
    {
     "name": "stdout",
     "output_type": "stream",
     "text": [
      "\n",
      "--- Processing Log ---\n",
      "All files processed successfully.\n",
      "----------------------\n"
     ]
    },
    {
     "name": "stderr",
     "output_type": "stream",
     "text": [
      "Processing Trials: 100%|██████████| 2322/2322 [00:02<00:00, 923.76it/s]\n"
     ]
    },
    {
     "name": "stdout",
     "output_type": "stream",
     "text": [
      "Processing for RFMapping_2 complete. Files saved in /home/tony/Halluci-Nations/scratch/ecephys_714789_2024-05-16_13-16-59_nwb_2025-08-03_21-11-22/RFMapping_2/raw\n",
      "Starting parallel processing with 16 cores...\n"
     ]
    },
    {
     "name": "stderr",
     "output_type": "stream",
     "text": [
      "100%|██████████| 2322/2322 [00:07<00:00, 299.75it/s]\n"
     ]
    },
    {
     "name": "stdout",
     "output_type": "stream",
     "text": [
      "\n",
      "--- Processing Log ---\n",
      "All files processed successfully.\n",
      "----------------------\n"
     ]
    },
    {
     "name": "stderr",
     "output_type": "stream",
     "text": [
      "Processing Trials: 100%|██████████| 1161/1161 [00:00<00:00, 2234.43it/s]\n"
     ]
    },
    {
     "name": "stdout",
     "output_type": "stream",
     "text": [
      "Processing for RFMapping_3 complete. Files saved in /home/tony/Halluci-Nations/scratch/ecephys_714789_2024-05-16_13-16-59_nwb_2025-08-03_21-11-22/RFMapping_3/raw\n",
      "Starting parallel processing with 16 cores...\n"
     ]
    },
    {
     "name": "stderr",
     "output_type": "stream",
     "text": [
      "100%|██████████| 1161/1161 [00:03<00:00, 336.87it/s]\n"
     ]
    },
    {
     "name": "stdout",
     "output_type": "stream",
     "text": [
      "\n",
      "--- Processing Log ---\n",
      "All files processed successfully.\n",
      "----------------------\n"
     ]
    },
    {
     "name": "stderr",
     "output_type": "stream",
     "text": [
      "Processing Trials: 100%|██████████| 2322/2322 [00:01<00:00, 1919.35it/s]\n"
     ]
    },
    {
     "name": "stdout",
     "output_type": "stream",
     "text": [
      "Processing for RFMapping_0 complete. Files saved in /home/tony/Halluci-Nations/scratch/ecephys_714527_2024-05-15_13-00-23_nwb_2025-08-03_21-11-22/RFMapping_0/raw\n",
      "Starting parallel processing with 16 cores...\n"
     ]
    },
    {
     "name": "stderr",
     "output_type": "stream",
     "text": [
      "100%|██████████| 2322/2322 [00:04<00:00, 505.39it/s]\n"
     ]
    },
    {
     "name": "stdout",
     "output_type": "stream",
     "text": [
      "\n",
      "--- Processing Log ---\n",
      "All files processed successfully.\n",
      "----------------------\n"
     ]
    },
    {
     "name": "stderr",
     "output_type": "stream",
     "text": [
      "Processing Trials: 100%|██████████| 2322/2322 [00:01<00:00, 2047.35it/s]\n"
     ]
    },
    {
     "name": "stdout",
     "output_type": "stream",
     "text": [
      "Processing for RFMapping_1 complete. Files saved in /home/tony/Halluci-Nations/scratch/ecephys_714527_2024-05-15_13-00-23_nwb_2025-08-03_21-11-22/RFMapping_1/raw\n",
      "Starting parallel processing with 16 cores...\n"
     ]
    },
    {
     "name": "stderr",
     "output_type": "stream",
     "text": [
      "100%|██████████| 2322/2322 [00:04<00:00, 518.72it/s]\n"
     ]
    },
    {
     "name": "stdout",
     "output_type": "stream",
     "text": [
      "\n",
      "--- Processing Log ---\n",
      "All files processed successfully.\n",
      "----------------------\n"
     ]
    },
    {
     "name": "stderr",
     "output_type": "stream",
     "text": [
      "Processing Trials: 100%|██████████| 2322/2322 [00:01<00:00, 1870.78it/s]\n"
     ]
    },
    {
     "name": "stdout",
     "output_type": "stream",
     "text": [
      "Processing for RFMapping_2 complete. Files saved in /home/tony/Halluci-Nations/scratch/ecephys_714527_2024-05-15_13-00-23_nwb_2025-08-03_21-11-22/RFMapping_2/raw\n",
      "Starting parallel processing with 16 cores...\n"
     ]
    },
    {
     "name": "stderr",
     "output_type": "stream",
     "text": [
      "100%|██████████| 2322/2322 [00:04<00:00, 519.51it/s]\n"
     ]
    },
    {
     "name": "stdout",
     "output_type": "stream",
     "text": [
      "\n",
      "--- Processing Log ---\n",
      "All files processed successfully.\n",
      "----------------------\n"
     ]
    },
    {
     "name": "stderr",
     "output_type": "stream",
     "text": [
      "Processing Trials: 100%|██████████| 2322/2322 [00:01<00:00, 1484.09it/s]\n"
     ]
    },
    {
     "name": "stdout",
     "output_type": "stream",
     "text": [
      "Processing for RFMapping_0 complete. Files saved in /home/tony/Halluci-Nations/scratch/ecephys_729461_2024-06-11_12-30-16_nwb_2025-08-03_21-11-22/RFMapping_0/raw\n",
      "Starting parallel processing with 16 cores...\n"
     ]
    },
    {
     "name": "stderr",
     "output_type": "stream",
     "text": [
      "100%|██████████| 2322/2322 [00:06<00:00, 360.49it/s]\n"
     ]
    },
    {
     "name": "stdout",
     "output_type": "stream",
     "text": [
      "\n",
      "--- Processing Log ---\n",
      "All files processed successfully.\n",
      "----------------------\n"
     ]
    },
    {
     "name": "stderr",
     "output_type": "stream",
     "text": [
      "Processing Trials: 100%|██████████| 2322/2322 [00:01<00:00, 1580.23it/s]\n"
     ]
    },
    {
     "name": "stdout",
     "output_type": "stream",
     "text": [
      "Processing for RFMapping_1 complete. Files saved in /home/tony/Halluci-Nations/scratch/ecephys_729461_2024-06-11_12-30-16_nwb_2025-08-03_21-11-22/RFMapping_1/raw\n",
      "Starting parallel processing with 16 cores...\n"
     ]
    },
    {
     "name": "stderr",
     "output_type": "stream",
     "text": [
      "100%|██████████| 2322/2322 [00:06<00:00, 364.29it/s]\n"
     ]
    },
    {
     "name": "stdout",
     "output_type": "stream",
     "text": [
      "\n",
      "--- Processing Log ---\n",
      "All files processed successfully.\n",
      "----------------------\n"
     ]
    },
    {
     "name": "stderr",
     "output_type": "stream",
     "text": [
      "Processing Trials: 100%|██████████| 2322/2322 [00:01<00:00, 1592.48it/s]\n"
     ]
    },
    {
     "name": "stdout",
     "output_type": "stream",
     "text": [
      "Processing for RFMapping_2 complete. Files saved in /home/tony/Halluci-Nations/scratch/ecephys_729461_2024-06-11_12-30-16_nwb_2025-08-03_21-11-22/RFMapping_2/raw\n",
      "Starting parallel processing with 16 cores...\n"
     ]
    },
    {
     "name": "stderr",
     "output_type": "stream",
     "text": [
      "100%|██████████| 2322/2322 [00:06<00:00, 361.42it/s]\n"
     ]
    },
    {
     "name": "stdout",
     "output_type": "stream",
     "text": [
      "\n",
      "--- Processing Log ---\n",
      "All files processed successfully.\n",
      "----------------------\n"
     ]
    },
    {
     "name": "stderr",
     "output_type": "stream",
     "text": [
      "Processing Trials: 100%|██████████| 2322/2322 [00:01<00:00, 2153.89it/s]\n"
     ]
    },
    {
     "name": "stdout",
     "output_type": "stream",
     "text": [
      "Processing for RFMapping_0 complete. Files saved in /home/tony/Halluci-Nations/scratch/ecephys_729461_2024-06-10_12-51-54_nwb_2025-08-03_21-11-22/RFMapping_0/raw\n",
      "Starting parallel processing with 16 cores...\n"
     ]
    },
    {
     "name": "stderr",
     "output_type": "stream",
     "text": [
      "100%|██████████| 2322/2322 [00:04<00:00, 477.96it/s]\n"
     ]
    },
    {
     "name": "stdout",
     "output_type": "stream",
     "text": [
      "\n",
      "--- Processing Log ---\n",
      "All files processed successfully.\n",
      "----------------------\n"
     ]
    },
    {
     "name": "stderr",
     "output_type": "stream",
     "text": [
      "Processing Trials: 100%|██████████| 2322/2322 [00:01<00:00, 1999.87it/s]\n"
     ]
    },
    {
     "name": "stdout",
     "output_type": "stream",
     "text": [
      "Processing for RFMapping_1 complete. Files saved in /home/tony/Halluci-Nations/scratch/ecephys_729461_2024-06-10_12-51-54_nwb_2025-08-03_21-11-22/RFMapping_1/raw\n",
      "Starting parallel processing with 16 cores...\n"
     ]
    },
    {
     "name": "stderr",
     "output_type": "stream",
     "text": [
      "100%|██████████| 2322/2322 [00:05<00:00, 460.85it/s]\n"
     ]
    },
    {
     "name": "stdout",
     "output_type": "stream",
     "text": [
      "\n",
      "--- Processing Log ---\n",
      "All files processed successfully.\n",
      "----------------------\n"
     ]
    },
    {
     "name": "stderr",
     "output_type": "stream",
     "text": [
      "Processing Trials: 100%|██████████| 2322/2322 [00:01<00:00, 1910.43it/s]\n"
     ]
    },
    {
     "name": "stdout",
     "output_type": "stream",
     "text": [
      "Processing for RFMapping_2 complete. Files saved in /home/tony/Halluci-Nations/scratch/ecephys_729461_2024-06-10_12-51-54_nwb_2025-08-03_21-11-22/RFMapping_2/raw\n",
      "Starting parallel processing with 16 cores...\n"
     ]
    },
    {
     "name": "stderr",
     "output_type": "stream",
     "text": [
      "100%|██████████| 2322/2322 [00:05<00:00, 464.37it/s]\n"
     ]
    },
    {
     "name": "stdout",
     "output_type": "stream",
     "text": [
      "\n",
      "--- Processing Log ---\n",
      "All files processed successfully.\n",
      "----------------------\n"
     ]
    },
    {
     "name": "stderr",
     "output_type": "stream",
     "text": [
      "Processing Trials: 100%|██████████| 1161/1161 [00:00<00:00, 3313.58it/s]\n"
     ]
    },
    {
     "name": "stdout",
     "output_type": "stream",
     "text": [
      "Processing for RFMapping_3 complete. Files saved in /home/tony/Halluci-Nations/scratch/ecephys_729461_2024-06-10_12-51-54_nwb_2025-08-03_21-11-22/RFMapping_3/raw\n",
      "Starting parallel processing with 16 cores...\n"
     ]
    },
    {
     "name": "stderr",
     "output_type": "stream",
     "text": [
      "100%|██████████| 1161/1161 [00:02<00:00, 499.46it/s]\n"
     ]
    },
    {
     "name": "stdout",
     "output_type": "stream",
     "text": [
      "\n",
      "--- Processing Log ---\n",
      "All files processed successfully.\n",
      "----------------------\n"
     ]
    },
    {
     "name": "stderr",
     "output_type": "stream",
     "text": [
      "Processing Trials: 100%|██████████| 2322/2322 [00:01<00:00, 1650.05it/s]\n"
     ]
    },
    {
     "name": "stdout",
     "output_type": "stream",
     "text": [
      "Processing for RFMapping_0 complete. Files saved in /home/tony/Halluci-Nations/scratch/ecephys_717036_2024-06-07_12-00-57_nwb_2025-08-03_21-11-22/RFMapping_0/raw\n",
      "Starting parallel processing with 16 cores...\n"
     ]
    },
    {
     "name": "stderr",
     "output_type": "stream",
     "text": [
      "100%|██████████| 2322/2322 [00:05<00:00, 414.94it/s]\n"
     ]
    },
    {
     "name": "stdout",
     "output_type": "stream",
     "text": [
      "\n",
      "--- Processing Log ---\n",
      "All files processed successfully.\n",
      "----------------------\n"
     ]
    },
    {
     "name": "stderr",
     "output_type": "stream",
     "text": [
      "Processing Trials: 100%|██████████| 2322/2322 [00:01<00:00, 1667.62it/s]\n"
     ]
    },
    {
     "name": "stdout",
     "output_type": "stream",
     "text": [
      "Processing for RFMapping_1 complete. Files saved in /home/tony/Halluci-Nations/scratch/ecephys_717036_2024-06-07_12-00-57_nwb_2025-08-03_21-11-22/RFMapping_1/raw\n",
      "Starting parallel processing with 16 cores...\n"
     ]
    },
    {
     "name": "stderr",
     "output_type": "stream",
     "text": [
      "100%|██████████| 2322/2322 [00:05<00:00, 411.78it/s]\n"
     ]
    },
    {
     "name": "stdout",
     "output_type": "stream",
     "text": [
      "\n",
      "--- Processing Log ---\n",
      "All files processed successfully.\n",
      "----------------------\n"
     ]
    },
    {
     "name": "stderr",
     "output_type": "stream",
     "text": [
      "Processing Trials: 100%|██████████| 2322/2322 [00:01<00:00, 1489.91it/s]\n"
     ]
    },
    {
     "name": "stdout",
     "output_type": "stream",
     "text": [
      "Processing for RFMapping_2 complete. Files saved in /home/tony/Halluci-Nations/scratch/ecephys_717036_2024-06-07_12-00-57_nwb_2025-08-03_21-11-22/RFMapping_2/raw\n",
      "Starting parallel processing with 16 cores...\n"
     ]
    },
    {
     "name": "stderr",
     "output_type": "stream",
     "text": [
      "100%|██████████| 2322/2322 [00:05<00:00, 411.07it/s]\n"
     ]
    },
    {
     "name": "stdout",
     "output_type": "stream",
     "text": [
      "\n",
      "--- Processing Log ---\n",
      "All files processed successfully.\n",
      "----------------------\n"
     ]
    },
    {
     "name": "stderr",
     "output_type": "stream",
     "text": [
      "Processing Trials: 100%|██████████| 2322/2322 [00:00<00:00, 3600.81it/s]\n"
     ]
    },
    {
     "name": "stdout",
     "output_type": "stream",
     "text": [
      "Processing for RFMapping_0 complete. Files saved in /home/tony/Halluci-Nations/scratch/ecephys_714527_2024-05-14_13-22-07_nwb_2025-08-03_21-11-22/RFMapping_0/raw\n",
      "Starting parallel processing with 16 cores...\n"
     ]
    },
    {
     "name": "stderr",
     "output_type": "stream",
     "text": [
      "100%|██████████| 2322/2322 [00:02<00:00, 809.87it/s]\n"
     ]
    },
    {
     "name": "stdout",
     "output_type": "stream",
     "text": [
      "\n",
      "--- Processing Log ---\n",
      "All files processed successfully.\n",
      "----------------------\n"
     ]
    },
    {
     "name": "stderr",
     "output_type": "stream",
     "text": [
      "Processing Trials: 100%|██████████| 2322/2322 [00:00<00:00, 2998.96it/s]\n"
     ]
    },
    {
     "name": "stdout",
     "output_type": "stream",
     "text": [
      "Processing for RFMapping_1 complete. Files saved in /home/tony/Halluci-Nations/scratch/ecephys_714527_2024-05-14_13-22-07_nwb_2025-08-03_21-11-22/RFMapping_1/raw\n",
      "Starting parallel processing with 16 cores...\n"
     ]
    },
    {
     "name": "stderr",
     "output_type": "stream",
     "text": [
      "100%|██████████| 2322/2322 [00:02<00:00, 809.46it/s]\n"
     ]
    },
    {
     "name": "stdout",
     "output_type": "stream",
     "text": [
      "\n",
      "--- Processing Log ---\n",
      "All files processed successfully.\n",
      "----------------------\n"
     ]
    },
    {
     "name": "stderr",
     "output_type": "stream",
     "text": [
      "Processing Trials: 100%|██████████| 2322/2322 [00:00<00:00, 2696.83it/s]\n"
     ]
    },
    {
     "name": "stdout",
     "output_type": "stream",
     "text": [
      "Processing for RFMapping_2 complete. Files saved in /home/tony/Halluci-Nations/scratch/ecephys_714527_2024-05-14_13-22-07_nwb_2025-08-03_21-11-22/RFMapping_2/raw\n",
      "Starting parallel processing with 16 cores...\n"
     ]
    },
    {
     "name": "stderr",
     "output_type": "stream",
     "text": [
      "100%|██████████| 2322/2322 [00:02<00:00, 802.65it/s]\n"
     ]
    },
    {
     "name": "stdout",
     "output_type": "stream",
     "text": [
      "\n",
      "--- Processing Log ---\n",
      "All files processed successfully.\n",
      "----------------------\n"
     ]
    },
    {
     "name": "stderr",
     "output_type": "stream",
     "text": [
      "Processing Trials: 100%|██████████| 1161/1161 [00:00<00:00, 4949.07it/s]\n"
     ]
    },
    {
     "name": "stdout",
     "output_type": "stream",
     "text": [
      "Processing for RFMapping_3 complete. Files saved in /home/tony/Halluci-Nations/scratch/ecephys_714527_2024-05-14_13-22-07_nwb_2025-08-03_21-11-22/RFMapping_3/raw\n",
      "Starting parallel processing with 16 cores...\n"
     ]
    },
    {
     "name": "stderr",
     "output_type": "stream",
     "text": [
      "100%|██████████| 1161/1161 [00:01<00:00, 873.54it/s]\n"
     ]
    },
    {
     "name": "stdout",
     "output_type": "stream",
     "text": [
      "\n",
      "--- Processing Log ---\n",
      "All files processed successfully.\n",
      "----------------------\n"
     ]
    }
   ],
   "source": [
    "for main_path in os.listdir(dat_spike_paths):\n",
    "    try:\n",
    "        main_path = os.path.join(dat_spike_paths,main_path)\n",
    "        time_res = 0.01\n",
    "        bin_size = time_res\n",
    "        data_path = os.path.join(main_path,'data.pkl')\n",
    "        epoch_path = os.path.join(main_path,'epochs.pkl')\n",
    "        photostim_path = os.path.join(main_path,'photostim.pkl')\n",
    "        visualstim_path = os.path.join(main_path,'visualstim.pkl')\n",
    "        df_data = pd.read_pickle(data_path)\n",
    "        df_epoch = pd.read_pickle(epoch_path)\n",
    "        df_photostim = pd.read_pickle(photostim_path)\n",
    "        df_visualstim = pd.read_pickle(visualstim_path)\n",
    "        stims_eps = [i for i in df_epoch['stim_name'] if 'RFMapping' in i]\n",
    "        for stim_ep in stims_eps:\n",
    "            df_map_save  =  f'{main_path}/{stim_ep}/'\n",
    "            stim_ep_path = f'{df_map_save}raw'\n",
    "            save_path = f'{main_path}/{stim_ep}/firing_rate2'\n",
    "            df_interest = datrac.update_stim_eps_end_time(df_visualstim,stim_ep)\n",
    "            datrac.extract_spikes_times_parallel_optimized(df_data,df_interest, stim_ep, main_path)\n",
    "            datrac.parallel_bin_spikes(stim_ep_path, save_path, time_res, num_processes=None)\n",
    "            df_interest.to_csv(os.path.join(df_map_save,'trial_info.csv'))\n",
    "\n",
    "    except Exception as e:\n",
    "        pass"
   ]
  }
 ],
 "metadata": {
  "kernelspec": {
   "display_name": "brainsformer",
   "language": "python",
   "name": "python3"
  },
  "language_info": {
   "codemirror_mode": {
    "name": "ipython",
    "version": 3
   },
   "file_extension": ".py",
   "mimetype": "text/x-python",
   "name": "python",
   "nbconvert_exporter": "python",
   "pygments_lexer": "ipython3",
   "version": "3.10.18"
  }
 },
 "nbformat": 4,
 "nbformat_minor": 5
}
