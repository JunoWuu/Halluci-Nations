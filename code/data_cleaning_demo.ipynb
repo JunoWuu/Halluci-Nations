{
 "cells": [
  {
   "cell_type": "code",
   "execution_count": 1,
   "id": "946cf14d-9352-44c3-b286-2f84c4bab5e0",
   "metadata": {
    "tags": []
   },
   "outputs": [],
   "source": [
    "import os\n",
    "import pandas as pd \n",
    "import pickle\n",
    "from tqdm import tqdm \n",
    "import utils.data_extraction as datrac"
   ]
  },
  {
   "cell_type": "code",
   "execution_count": null,
   "id": "a7b256d5",
   "metadata": {},
   "outputs": [],
   "source": [
    "dat_spike_paths = '/home/tony/Halluci-Nations/scratch/'"
   ]
  },
  {
   "cell_type": "code",
   "execution_count": 3,
   "id": "04ab3c72",
   "metadata": {},
   "outputs": [
    {
     "name": "stderr",
     "output_type": "stream",
     "text": [
      "Processing Trials: 100%|██████████| 2322/2322 [00:01<00:00, 1382.33it/s]\n"
     ]
    },
    {
     "name": "stdout",
     "output_type": "stream",
     "text": [
      "Processing for RFMapping_0 complete. Files saved in /home/tony/Halluci-Nations/scratch/ecephys_717036_2024-06-06_12-32-42_nwb_2025-08-03_21-11-22/RFMapping_0/raw\n",
      "Starting parallel processing with 16 cores...\n"
     ]
    },
    {
     "name": "stderr",
     "output_type": "stream",
     "text": [
      "100%|██████████| 2322/2322 [00:08<00:00, 275.31it/s]\n"
     ]
    },
    {
     "name": "stdout",
     "output_type": "stream",
     "text": [
      "\n",
      "--- Processing Log ---\n",
      "All files processed successfully.\n",
      "----------------------\n"
     ]
    },
    {
     "name": "stderr",
     "output_type": "stream",
     "text": [
      "Processing Trials: 100%|██████████| 2322/2322 [00:01<00:00, 1193.75it/s]\n"
     ]
    },
    {
     "name": "stdout",
     "output_type": "stream",
     "text": [
      "Processing for RFMapping_1 complete. Files saved in /home/tony/Halluci-Nations/scratch/ecephys_717036_2024-06-06_12-32-42_nwb_2025-08-03_21-11-22/RFMapping_1/raw\n",
      "Starting parallel processing with 16 cores...\n"
     ]
    },
    {
     "name": "stderr",
     "output_type": "stream",
     "text": [
      "100%|██████████| 2322/2322 [00:08<00:00, 272.45it/s]\n"
     ]
    },
    {
     "name": "stdout",
     "output_type": "stream",
     "text": [
      "\n",
      "--- Processing Log ---\n",
      "All files processed successfully.\n",
      "----------------------\n"
     ]
    },
    {
     "name": "stderr",
     "output_type": "stream",
     "text": [
      "Processing Trials: 100%|██████████| 2322/2322 [00:01<00:00, 1193.01it/s]\n"
     ]
    },
    {
     "name": "stdout",
     "output_type": "stream",
     "text": [
      "Processing for RFMapping_2 complete. Files saved in /home/tony/Halluci-Nations/scratch/ecephys_717036_2024-06-06_12-32-42_nwb_2025-08-03_21-11-22/RFMapping_2/raw\n",
      "Starting parallel processing with 16 cores...\n"
     ]
    },
    {
     "name": "stderr",
     "output_type": "stream",
     "text": [
      "100%|██████████| 2322/2322 [00:08<00:00, 271.24it/s]\n"
     ]
    },
    {
     "name": "stdout",
     "output_type": "stream",
     "text": [
      "\n",
      "--- Processing Log ---\n",
      "All files processed successfully.\n",
      "----------------------\n"
     ]
    },
    {
     "name": "stderr",
     "output_type": "stream",
     "text": [
      "Processing Trials: 100%|██████████| 1161/1161 [00:00<00:00, 1888.83it/s]\n"
     ]
    },
    {
     "name": "stdout",
     "output_type": "stream",
     "text": [
      "Processing for RFMapping_3 complete. Files saved in /home/tony/Halluci-Nations/scratch/ecephys_717036_2024-06-06_12-32-42_nwb_2025-08-03_21-11-22/RFMapping_3/raw\n",
      "Starting parallel processing with 16 cores...\n"
     ]
    },
    {
     "name": "stderr",
     "output_type": "stream",
     "text": [
      "100%|██████████| 1161/1161 [00:04<00:00, 281.06it/s]\n"
     ]
    },
    {
     "name": "stdout",
     "output_type": "stream",
     "text": [
      "\n",
      "--- Processing Log ---\n",
      "All files processed successfully.\n",
      "----------------------\n"
     ]
    },
    {
     "ename": "SystemExit",
     "evalue": "",
     "output_type": "error",
     "traceback": [
      "An exception has occurred, use %tb to see the full traceback.\n",
      "\u001b[0;31mSystemExit\u001b[0m\n"
     ]
    },
    {
     "name": "stderr",
     "output_type": "stream",
     "text": [
      "/home/tony/miniconda3/envs/brainsformer/lib/python3.10/site-packages/IPython/core/interactiveshell.py:3587: UserWarning: To exit: use 'exit', 'quit', or Ctrl-D.\n",
      "  warn(\"To exit: use 'exit', 'quit', or Ctrl-D.\", stacklevel=1)\n"
     ]
    }
   ],
   "source": [
    "for main_path in os.listdir(dat_spike_paths):\n",
    "    try:\n",
    "        main_path = os.path.join(dat_spike_paths,main_path)\n",
    "        time_res = 0.01\n",
    "        bin_size = time_res\n",
    "        data_path = os.path.join(main_path,'data.pkl')\n",
    "        epoch_path = os.path.join(main_path,'epochs.pkl')\n",
    "        photostim_path = os.path.join(main_path,'photostim.pkl')\n",
    "        visualstim_path = os.path.join(main_path,'visualstim.pkl')\n",
    "        df_data = pd.read_pickle(data_path)\n",
    "        df_data = df_data.sort_values(by=[\"probe\", \"ks_unit_id\"], ascending=[True, True])\n",
    "        df_epoch = pd.read_pickle(epoch_path)\n",
    "        df_photostim = pd.read_pickle(photostim_path)\n",
    "        df_visualstim = pd.read_pickle(visualstim_path)\n",
    "        stims_eps = [i for i in df_epoch['stim_name'] if 'RFMapping' in i]\n",
    "        for stim_ep in stims_eps:\n",
    "            df_map_save  =  f'{main_path}/{stim_ep}/'\n",
    "            stim_ep_path = f'{df_map_save}raw'\n",
    "            save_path = f'{main_path}/{stim_ep}/firing_rate2'\n",
    "            df_interest = datrac.update_stim_eps_end_time(df_visualstim,stim_ep)\n",
    "            datrac.extract_spikes_times_parallel_optimized(df_data,df_interest, stim_ep, main_path)\n",
    "            datrac.parallel_bin_spikes(stim_ep_path, save_path, time_res, num_processes=None)\n",
    "            df_interest.to_csv(os.path.join(df_map_save,'trial_info.csv'))\n",
    "    except Exception as e:\n",
    "        print(main_path)\n",
    "        print(e)"
   ]
  },
  {
   "cell_type": "code",
   "execution_count": null,
   "id": "6e50c4bd",
   "metadata": {},
   "outputs": [],
   "source": []
  }
 ],
 "metadata": {
  "kernelspec": {
   "display_name": "brainsformer",
   "language": "python",
   "name": "python3"
  },
  "language_info": {
   "codemirror_mode": {
    "name": "ipython",
    "version": 3
   },
   "file_extension": ".py",
   "mimetype": "text/x-python",
   "name": "python",
   "nbconvert_exporter": "python",
   "pygments_lexer": "ipython3",
   "version": "3.11.13"
  }
 },
 "nbformat": 4,
 "nbformat_minor": 5
}
