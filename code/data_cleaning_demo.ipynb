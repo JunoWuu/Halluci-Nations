{
 "cells": [
  {
   "cell_type": "code",
   "execution_count": 2,
   "id": "946cf14d-9352-44c3-b286-2f84c4bab5e0",
   "metadata": {
    "tags": []
   },
   "outputs": [],
   "source": [
    "import os\n",
    "import pandas as pd \n",
    "import pickle\n",
    "from tqdm import tqdm \n",
    "import data_extraction as datrac"
   ]
  },
  {
   "cell_type": "code",
   "execution_count": 8,
   "id": "67ad387e",
   "metadata": {},
   "outputs": [],
   "source": [
    "dat_spike_paths = '/home/tony/Halluci-Nations/scratch/'"
   ]
  },
  {
   "cell_type": "code",
   "execution_count": 11,
   "id": "04ab3c72",
   "metadata": {},
   "outputs": [
    {
     "name": "stderr",
     "output_type": "stream",
     "text": [
      "Processing Trials: 100%|██████████| 2322/2322 [00:01<00:00, 1305.19it/s]\n"
     ]
    },
    {
     "name": "stdout",
     "output_type": "stream",
     "text": [
      "Processing for RFMapping_0 complete. Files saved in /home/tony/Halluci-Nations/scratch/ecephys_717036_2024-06-06_12-32-42_nwb_2025-08-03_21-11-22/RFMapping_0/raw\n",
      "Starting parallel processing with 16 cores...\n"
     ]
    },
    {
     "name": "stderr",
     "output_type": "stream",
     "text": [
      "100%|██████████| 2322/2322 [00:08<00:00, 278.37it/s]\n"
     ]
    },
    {
     "name": "stdout",
     "output_type": "stream",
     "text": [
      "\n",
      "--- Processing Log ---\n",
      "All files processed successfully.\n",
      "----------------------\n"
     ]
    },
    {
     "name": "stderr",
     "output_type": "stream",
     "text": [
      "Processing Trials: 100%|██████████| 2322/2322 [00:01<00:00, 1313.21it/s]\n"
     ]
    },
    {
     "name": "stdout",
     "output_type": "stream",
     "text": [
      "Processing for RFMapping_1 complete. Files saved in /home/tony/Halluci-Nations/scratch/ecephys_717036_2024-06-06_12-32-42_nwb_2025-08-03_21-11-22/RFMapping_1/raw\n",
      "Starting parallel processing with 16 cores...\n"
     ]
    },
    {
     "name": "stderr",
     "output_type": "stream",
     "text": [
      "100%|██████████| 2322/2322 [00:08<00:00, 279.83it/s]\n"
     ]
    },
    {
     "name": "stdout",
     "output_type": "stream",
     "text": [
      "\n",
      "--- Processing Log ---\n",
      "All files processed successfully.\n",
      "----------------------\n"
     ]
    },
    {
     "name": "stderr",
     "output_type": "stream",
     "text": [
      "Processing Trials: 100%|██████████| 2322/2322 [00:01<00:00, 1257.79it/s]\n"
     ]
    },
    {
     "name": "stdout",
     "output_type": "stream",
     "text": [
      "Processing for RFMapping_2 complete. Files saved in /home/tony/Halluci-Nations/scratch/ecephys_717036_2024-06-06_12-32-42_nwb_2025-08-03_21-11-22/RFMapping_2/raw\n",
      "Starting parallel processing with 16 cores...\n"
     ]
    },
    {
     "name": "stderr",
     "output_type": "stream",
     "text": [
      "100%|██████████| 2322/2322 [00:08<00:00, 278.42it/s]\n"
     ]
    },
    {
     "name": "stdout",
     "output_type": "stream",
     "text": [
      "\n",
      "--- Processing Log ---\n",
      "All files processed successfully.\n",
      "----------------------\n"
     ]
    },
    {
     "name": "stderr",
     "output_type": "stream",
     "text": [
      "Processing Trials: 100%|██████████| 1161/1161 [00:00<00:00, 1994.24it/s]\n"
     ]
    },
    {
     "name": "stdout",
     "output_type": "stream",
     "text": [
      "Processing for RFMapping_3 complete. Files saved in /home/tony/Halluci-Nations/scratch/ecephys_717036_2024-06-06_12-32-42_nwb_2025-08-03_21-11-22/RFMapping_3/raw\n",
      "Starting parallel processing with 16 cores...\n"
     ]
    },
    {
     "name": "stderr",
     "output_type": "stream",
     "text": [
      "100%|██████████| 1161/1161 [00:03<00:00, 296.16it/s]\n"
     ]
    },
    {
     "name": "stdout",
     "output_type": "stream",
     "text": [
      "\n",
      "--- Processing Log ---\n",
      "All files processed successfully.\n",
      "----------------------\n"
     ]
    },
    {
     "name": "stderr",
     "output_type": "stream",
     "text": [
      "Processing Trials: 100%|██████████| 2322/2322 [00:01<00:00, 1781.49it/s]\n"
     ]
    },
    {
     "name": "stdout",
     "output_type": "stream",
     "text": [
      "Processing for RFMapping_0 complete. Files saved in /home/tony/Halluci-Nations/scratch/ecephys_717033_2024-06-05_12-36-57_nwb_2025-08-03_21-11-22/RFMapping_0/raw\n",
      "Starting parallel processing with 16 cores...\n"
     ]
    },
    {
     "name": "stderr",
     "output_type": "stream",
     "text": [
      "100%|██████████| 2322/2322 [00:07<00:00, 325.94it/s]\n"
     ]
    },
    {
     "name": "stdout",
     "output_type": "stream",
     "text": [
      "\n",
      "--- Processing Log ---\n",
      "All files processed successfully.\n",
      "----------------------\n"
     ]
    },
    {
     "name": "stderr",
     "output_type": "stream",
     "text": [
      "Processing Trials: 100%|██████████| 2322/2322 [00:01<00:00, 1681.74it/s]\n"
     ]
    },
    {
     "name": "stdout",
     "output_type": "stream",
     "text": [
      "Processing for RFMapping_1 complete. Files saved in /home/tony/Halluci-Nations/scratch/ecephys_717033_2024-06-05_12-36-57_nwb_2025-08-03_21-11-22/RFMapping_1/raw\n",
      "Starting parallel processing with 16 cores...\n"
     ]
    },
    {
     "name": "stderr",
     "output_type": "stream",
     "text": [
      "100%|██████████| 2322/2322 [00:07<00:00, 329.58it/s]\n"
     ]
    },
    {
     "name": "stdout",
     "output_type": "stream",
     "text": [
      "\n",
      "--- Processing Log ---\n",
      "All files processed successfully.\n",
      "----------------------\n"
     ]
    },
    {
     "name": "stderr",
     "output_type": "stream",
     "text": [
      "Processing Trials: 100%|██████████| 2322/2322 [00:01<00:00, 1746.43it/s]\n"
     ]
    },
    {
     "name": "stdout",
     "output_type": "stream",
     "text": [
      "Processing for RFMapping_2 complete. Files saved in /home/tony/Halluci-Nations/scratch/ecephys_717033_2024-06-05_12-36-57_nwb_2025-08-03_21-11-22/RFMapping_2/raw\n",
      "Starting parallel processing with 16 cores...\n"
     ]
    },
    {
     "name": "stderr",
     "output_type": "stream",
     "text": [
      "100%|██████████| 2322/2322 [00:07<00:00, 323.74it/s]\n"
     ]
    },
    {
     "name": "stdout",
     "output_type": "stream",
     "text": [
      "\n",
      "--- Processing Log ---\n",
      "All files processed successfully.\n",
      "----------------------\n"
     ]
    },
    {
     "name": "stderr",
     "output_type": "stream",
     "text": [
      "Processing Trials: 100%|██████████| 2322/2322 [00:00<00:00, 3809.61it/s]\n"
     ]
    },
    {
     "name": "stdout",
     "output_type": "stream",
     "text": [
      "Processing for RFMapping_0 complete. Files saved in /home/tony/Halluci-Nations/scratch/ecephys_717033_2024-06-04_13-01-40_nwb_2025-08-03_21-11-22/RFMapping_0/raw\n",
      "Starting parallel processing with 16 cores...\n"
     ]
    },
    {
     "name": "stderr",
     "output_type": "stream",
     "text": [
      "100%|██████████| 2322/2322 [00:02<00:00, 847.21it/s]\n"
     ]
    },
    {
     "name": "stdout",
     "output_type": "stream",
     "text": [
      "\n",
      "--- Processing Log ---\n",
      "All files processed successfully.\n",
      "----------------------\n"
     ]
    },
    {
     "name": "stderr",
     "output_type": "stream",
     "text": [
      "Processing Trials: 100%|██████████| 2322/2322 [00:00<00:00, 4010.27it/s]\n"
     ]
    },
    {
     "name": "stdout",
     "output_type": "stream",
     "text": [
      "Processing for RFMapping_1 complete. Files saved in /home/tony/Halluci-Nations/scratch/ecephys_717033_2024-06-04_13-01-40_nwb_2025-08-03_21-11-22/RFMapping_1/raw\n",
      "Starting parallel processing with 16 cores...\n"
     ]
    },
    {
     "name": "stderr",
     "output_type": "stream",
     "text": [
      "100%|██████████| 2322/2322 [00:02<00:00, 826.30it/s]\n"
     ]
    },
    {
     "name": "stdout",
     "output_type": "stream",
     "text": [
      "\n",
      "--- Processing Log ---\n",
      "All files processed successfully.\n",
      "----------------------\n"
     ]
    },
    {
     "name": "stderr",
     "output_type": "stream",
     "text": [
      "Processing Trials: 100%|██████████| 2322/2322 [00:00<00:00, 3952.75it/s]\n"
     ]
    },
    {
     "name": "stdout",
     "output_type": "stream",
     "text": [
      "Processing for RFMapping_2 complete. Files saved in /home/tony/Halluci-Nations/scratch/ecephys_717033_2024-06-04_13-01-40_nwb_2025-08-03_21-11-22/RFMapping_2/raw\n",
      "Starting parallel processing with 16 cores...\n"
     ]
    },
    {
     "name": "stderr",
     "output_type": "stream",
     "text": [
      "100%|██████████| 2322/2322 [00:02<00:00, 851.48it/s]\n"
     ]
    },
    {
     "name": "stdout",
     "output_type": "stream",
     "text": [
      "\n",
      "--- Processing Log ---\n",
      "All files processed successfully.\n",
      "----------------------\n"
     ]
    },
    {
     "name": "stderr",
     "output_type": "stream",
     "text": [
      "Processing Trials: 100%|██████████| 1161/1161 [00:00<00:00, 6730.69it/s]\n"
     ]
    },
    {
     "name": "stdout",
     "output_type": "stream",
     "text": [
      "Processing for RFMapping_3 complete. Files saved in /home/tony/Halluci-Nations/scratch/ecephys_717033_2024-06-04_13-01-40_nwb_2025-08-03_21-11-22/RFMapping_3/raw\n",
      "Starting parallel processing with 16 cores...\n"
     ]
    },
    {
     "name": "stderr",
     "output_type": "stream",
     "text": [
      "100%|██████████| 1161/1161 [00:01<00:00, 908.73it/s]\n"
     ]
    },
    {
     "name": "stdout",
     "output_type": "stream",
     "text": [
      "\n",
      "--- Processing Log ---\n",
      "All files processed successfully.\n",
      "----------------------\n"
     ]
    },
    {
     "name": "stderr",
     "output_type": "stream",
     "text": [
      "Processing Trials: 100%|██████████| 2322/2322 [00:01<00:00, 1658.40it/s]\n"
     ]
    },
    {
     "name": "stdout",
     "output_type": "stream",
     "text": [
      "Processing for RFMapping_0 complete. Files saved in /home/tony/Halluci-Nations/scratch/ecephys_730049_2024-06-14_12-07-57_nwb_2025-08-03_21-11-22/RFMapping_0/raw\n",
      "Starting parallel processing with 16 cores...\n"
     ]
    },
    {
     "name": "stderr",
     "output_type": "stream",
     "text": [
      "100%|██████████| 2322/2322 [00:06<00:00, 358.30it/s]\n"
     ]
    },
    {
     "name": "stdout",
     "output_type": "stream",
     "text": [
      "\n",
      "--- Processing Log ---\n",
      "All files processed successfully.\n",
      "----------------------\n"
     ]
    },
    {
     "name": "stderr",
     "output_type": "stream",
     "text": [
      "Processing Trials: 100%|██████████| 2322/2322 [00:01<00:00, 1608.86it/s]\n"
     ]
    },
    {
     "name": "stdout",
     "output_type": "stream",
     "text": [
      "Processing for RFMapping_1 complete. Files saved in /home/tony/Halluci-Nations/scratch/ecephys_730049_2024-06-14_12-07-57_nwb_2025-08-03_21-11-22/RFMapping_1/raw\n",
      "Starting parallel processing with 16 cores...\n"
     ]
    },
    {
     "name": "stderr",
     "output_type": "stream",
     "text": [
      "100%|██████████| 2322/2322 [00:06<00:00, 353.91it/s]\n"
     ]
    },
    {
     "name": "stdout",
     "output_type": "stream",
     "text": [
      "\n",
      "--- Processing Log ---\n",
      "All files processed successfully.\n",
      "----------------------\n"
     ]
    },
    {
     "name": "stderr",
     "output_type": "stream",
     "text": [
      "Processing Trials: 100%|██████████| 2322/2322 [00:01<00:00, 1554.79it/s]\n"
     ]
    },
    {
     "name": "stdout",
     "output_type": "stream",
     "text": [
      "Processing for RFMapping_2 complete. Files saved in /home/tony/Halluci-Nations/scratch/ecephys_730049_2024-06-14_12-07-57_nwb_2025-08-03_21-11-22/RFMapping_2/raw\n",
      "Starting parallel processing with 16 cores...\n"
     ]
    },
    {
     "name": "stderr",
     "output_type": "stream",
     "text": [
      "100%|██████████| 2322/2322 [00:06<00:00, 354.67it/s]\n"
     ]
    },
    {
     "name": "stdout",
     "output_type": "stream",
     "text": [
      "\n",
      "--- Processing Log ---\n",
      "All files processed successfully.\n",
      "----------------------\n"
     ]
    },
    {
     "name": "stderr",
     "output_type": "stream",
     "text": [
      "Processing Trials: 100%|██████████| 2322/2322 [00:01<00:00, 1396.34it/s]\n"
     ]
    },
    {
     "name": "stdout",
     "output_type": "stream",
     "text": [
      "Processing for RFMapping_0 complete. Files saved in /home/tony/Halluci-Nations/scratch/ecephys_730049_2024-06-13_12-53-21_nwb_2025-08-03_21-11-22/RFMapping_0/raw\n",
      "Starting parallel processing with 16 cores...\n"
     ]
    },
    {
     "name": "stderr",
     "output_type": "stream",
     "text": [
      "100%|██████████| 2322/2322 [00:07<00:00, 300.02it/s]\n"
     ]
    },
    {
     "name": "stdout",
     "output_type": "stream",
     "text": [
      "\n",
      "--- Processing Log ---\n",
      "All files processed successfully.\n",
      "----------------------\n"
     ]
    },
    {
     "name": "stderr",
     "output_type": "stream",
     "text": [
      "Processing Trials: 100%|██████████| 2322/2322 [00:01<00:00, 1256.27it/s]\n"
     ]
    },
    {
     "name": "stdout",
     "output_type": "stream",
     "text": [
      "Processing for RFMapping_1 complete. Files saved in /home/tony/Halluci-Nations/scratch/ecephys_730049_2024-06-13_12-53-21_nwb_2025-08-03_21-11-22/RFMapping_1/raw\n",
      "Starting parallel processing with 16 cores...\n"
     ]
    },
    {
     "name": "stderr",
     "output_type": "stream",
     "text": [
      "100%|██████████| 2322/2322 [00:07<00:00, 298.34it/s]\n"
     ]
    },
    {
     "name": "stdout",
     "output_type": "stream",
     "text": [
      "\n",
      "--- Processing Log ---\n",
      "All files processed successfully.\n",
      "----------------------\n"
     ]
    },
    {
     "name": "stderr",
     "output_type": "stream",
     "text": [
      "Processing Trials: 100%|██████████| 2322/2322 [00:01<00:00, 1271.00it/s]\n"
     ]
    },
    {
     "name": "stdout",
     "output_type": "stream",
     "text": [
      "Processing for RFMapping_2 complete. Files saved in /home/tony/Halluci-Nations/scratch/ecephys_730049_2024-06-13_12-53-21_nwb_2025-08-03_21-11-22/RFMapping_2/raw\n",
      "Starting parallel processing with 16 cores...\n"
     ]
    },
    {
     "name": "stderr",
     "output_type": "stream",
     "text": [
      "100%|██████████| 2322/2322 [00:07<00:00, 292.66it/s]\n"
     ]
    },
    {
     "name": "stdout",
     "output_type": "stream",
     "text": [
      "\n",
      "--- Processing Log ---\n",
      "All files processed successfully.\n",
      "----------------------\n"
     ]
    },
    {
     "name": "stderr",
     "output_type": "stream",
     "text": [
      "Processing Trials: 100%|██████████| 1161/1161 [00:00<00:00, 2206.82it/s]\n"
     ]
    },
    {
     "name": "stdout",
     "output_type": "stream",
     "text": [
      "Processing for RFMapping_3 complete. Files saved in /home/tony/Halluci-Nations/scratch/ecephys_730049_2024-06-13_12-53-21_nwb_2025-08-03_21-11-22/RFMapping_3/raw\n",
      "Starting parallel processing with 16 cores...\n"
     ]
    },
    {
     "name": "stderr",
     "output_type": "stream",
     "text": [
      "100%|██████████| 1161/1161 [00:03<00:00, 319.28it/s]\n"
     ]
    },
    {
     "name": "stdout",
     "output_type": "stream",
     "text": [
      "\n",
      "--- Processing Log ---\n",
      "All files processed successfully.\n",
      "----------------------\n"
     ]
    },
    {
     "name": "stderr",
     "output_type": "stream",
     "text": [
      "Processing Trials: 100%|██████████| 2322/2322 [00:01<00:00, 1257.87it/s]\n"
     ]
    },
    {
     "name": "stdout",
     "output_type": "stream",
     "text": [
      "Processing for RFMapping_0 complete. Files saved in /home/tony/Halluci-Nations/scratch/ecephys_714789_2024-05-16_13-16-59_nwb_2025-08-03_21-11-22/RFMapping_0/raw\n",
      "Starting parallel processing with 16 cores...\n"
     ]
    },
    {
     "name": "stderr",
     "output_type": "stream",
     "text": [
      "100%|██████████| 2322/2322 [00:07<00:00, 308.87it/s]\n"
     ]
    },
    {
     "name": "stdout",
     "output_type": "stream",
     "text": [
      "\n",
      "--- Processing Log ---\n",
      "All files processed successfully.\n",
      "----------------------\n"
     ]
    },
    {
     "name": "stderr",
     "output_type": "stream",
     "text": [
      "Processing Trials: 100%|██████████| 2322/2322 [00:02<00:00, 1096.71it/s]\n"
     ]
    },
    {
     "name": "stdout",
     "output_type": "stream",
     "text": [
      "Processing for RFMapping_1 complete. Files saved in /home/tony/Halluci-Nations/scratch/ecephys_714789_2024-05-16_13-16-59_nwb_2025-08-03_21-11-22/RFMapping_1/raw\n",
      "Starting parallel processing with 16 cores...\n"
     ]
    },
    {
     "name": "stderr",
     "output_type": "stream",
     "text": [
      "100%|██████████| 2322/2322 [00:07<00:00, 309.01it/s]\n"
     ]
    },
    {
     "name": "stdout",
     "output_type": "stream",
     "text": [
      "\n",
      "--- Processing Log ---\n",
      "All files processed successfully.\n",
      "----------------------\n"
     ]
    },
    {
     "name": "stderr",
     "output_type": "stream",
     "text": [
      "Processing Trials: 100%|██████████| 2322/2322 [00:02<00:00, 1027.28it/s]\n"
     ]
    },
    {
     "name": "stdout",
     "output_type": "stream",
     "text": [
      "Processing for RFMapping_2 complete. Files saved in /home/tony/Halluci-Nations/scratch/ecephys_714789_2024-05-16_13-16-59_nwb_2025-08-03_21-11-22/RFMapping_2/raw\n",
      "Starting parallel processing with 16 cores...\n"
     ]
    },
    {
     "name": "stderr",
     "output_type": "stream",
     "text": [
      "100%|██████████| 2322/2322 [00:07<00:00, 307.51it/s]\n"
     ]
    },
    {
     "name": "stdout",
     "output_type": "stream",
     "text": [
      "\n",
      "--- Processing Log ---\n",
      "All files processed successfully.\n",
      "----------------------\n"
     ]
    },
    {
     "name": "stderr",
     "output_type": "stream",
     "text": [
      "Processing Trials: 100%|██████████| 1161/1161 [00:00<00:00, 2177.39it/s]\n"
     ]
    },
    {
     "name": "stdout",
     "output_type": "stream",
     "text": [
      "Processing for RFMapping_3 complete. Files saved in /home/tony/Halluci-Nations/scratch/ecephys_714789_2024-05-16_13-16-59_nwb_2025-08-03_21-11-22/RFMapping_3/raw\n",
      "Starting parallel processing with 16 cores...\n"
     ]
    },
    {
     "name": "stderr",
     "output_type": "stream",
     "text": [
      "100%|██████████| 1161/1161 [00:03<00:00, 335.83it/s]\n"
     ]
    },
    {
     "name": "stdout",
     "output_type": "stream",
     "text": [
      "\n",
      "--- Processing Log ---\n",
      "All files processed successfully.\n",
      "----------------------\n"
     ]
    },
    {
     "name": "stderr",
     "output_type": "stream",
     "text": [
      "Processing Trials: 100%|██████████| 2322/2322 [00:00<00:00, 2548.39it/s]\n"
     ]
    },
    {
     "name": "stdout",
     "output_type": "stream",
     "text": [
      "Processing for RFMapping_0 complete. Files saved in /home/tony/Halluci-Nations/scratch/ecephys_714527_2024-05-15_13-00-23_nwb_2025-08-03_21-11-22/RFMapping_0/raw\n",
      "Starting parallel processing with 16 cores...\n"
     ]
    },
    {
     "name": "stderr",
     "output_type": "stream",
     "text": [
      "100%|██████████| 2322/2322 [00:04<00:00, 541.04it/s]\n"
     ]
    },
    {
     "name": "stdout",
     "output_type": "stream",
     "text": [
      "\n",
      "--- Processing Log ---\n",
      "All files processed successfully.\n",
      "----------------------\n"
     ]
    },
    {
     "name": "stderr",
     "output_type": "stream",
     "text": [
      "Processing Trials: 100%|██████████| 2322/2322 [00:00<00:00, 2535.53it/s]\n"
     ]
    },
    {
     "name": "stdout",
     "output_type": "stream",
     "text": [
      "Processing for RFMapping_1 complete. Files saved in /home/tony/Halluci-Nations/scratch/ecephys_714527_2024-05-15_13-00-23_nwb_2025-08-03_21-11-22/RFMapping_1/raw\n",
      "Starting parallel processing with 16 cores...\n"
     ]
    },
    {
     "name": "stderr",
     "output_type": "stream",
     "text": [
      "100%|██████████| 2322/2322 [00:04<00:00, 536.81it/s]\n"
     ]
    },
    {
     "name": "stdout",
     "output_type": "stream",
     "text": [
      "\n",
      "--- Processing Log ---\n",
      "All files processed successfully.\n",
      "----------------------\n"
     ]
    },
    {
     "name": "stderr",
     "output_type": "stream",
     "text": [
      "Processing Trials: 100%|██████████| 2322/2322 [00:01<00:00, 2302.87it/s]\n"
     ]
    },
    {
     "name": "stdout",
     "output_type": "stream",
     "text": [
      "Processing for RFMapping_2 complete. Files saved in /home/tony/Halluci-Nations/scratch/ecephys_714527_2024-05-15_13-00-23_nwb_2025-08-03_21-11-22/RFMapping_2/raw\n",
      "Starting parallel processing with 16 cores...\n"
     ]
    },
    {
     "name": "stderr",
     "output_type": "stream",
     "text": [
      "100%|██████████| 2322/2322 [00:04<00:00, 531.23it/s]\n"
     ]
    },
    {
     "name": "stdout",
     "output_type": "stream",
     "text": [
      "\n",
      "--- Processing Log ---\n",
      "All files processed successfully.\n",
      "----------------------\n"
     ]
    },
    {
     "name": "stderr",
     "output_type": "stream",
     "text": [
      "Processing Trials: 100%|██████████| 2322/2322 [00:01<00:00, 1644.34it/s]\n"
     ]
    },
    {
     "name": "stdout",
     "output_type": "stream",
     "text": [
      "Processing for RFMapping_0 complete. Files saved in /home/tony/Halluci-Nations/scratch/ecephys_729461_2024-06-11_12-30-16_nwb_2025-08-03_21-11-22/RFMapping_0/raw\n",
      "Starting parallel processing with 16 cores...\n"
     ]
    },
    {
     "name": "stderr",
     "output_type": "stream",
     "text": [
      "100%|██████████| 2322/2322 [00:06<00:00, 372.68it/s]\n"
     ]
    },
    {
     "name": "stdout",
     "output_type": "stream",
     "text": [
      "\n",
      "--- Processing Log ---\n",
      "All files processed successfully.\n",
      "----------------------\n"
     ]
    },
    {
     "name": "stderr",
     "output_type": "stream",
     "text": [
      "Processing Trials: 100%|██████████| 2322/2322 [00:01<00:00, 1701.98it/s]\n"
     ]
    },
    {
     "name": "stdout",
     "output_type": "stream",
     "text": [
      "Processing for RFMapping_1 complete. Files saved in /home/tony/Halluci-Nations/scratch/ecephys_729461_2024-06-11_12-30-16_nwb_2025-08-03_21-11-22/RFMapping_1/raw\n",
      "Starting parallel processing with 16 cores...\n"
     ]
    },
    {
     "name": "stderr",
     "output_type": "stream",
     "text": [
      "100%|██████████| 2322/2322 [00:06<00:00, 369.05it/s]\n"
     ]
    },
    {
     "name": "stdout",
     "output_type": "stream",
     "text": [
      "\n",
      "--- Processing Log ---\n",
      "All files processed successfully.\n",
      "----------------------\n"
     ]
    },
    {
     "name": "stderr",
     "output_type": "stream",
     "text": [
      "Processing Trials: 100%|██████████| 2322/2322 [00:01<00:00, 1790.91it/s]\n"
     ]
    },
    {
     "name": "stdout",
     "output_type": "stream",
     "text": [
      "Processing for RFMapping_2 complete. Files saved in /home/tony/Halluci-Nations/scratch/ecephys_729461_2024-06-11_12-30-16_nwb_2025-08-03_21-11-22/RFMapping_2/raw\n",
      "Starting parallel processing with 16 cores...\n"
     ]
    },
    {
     "name": "stderr",
     "output_type": "stream",
     "text": [
      "100%|██████████| 2322/2322 [00:06<00:00, 372.22it/s]\n"
     ]
    },
    {
     "name": "stdout",
     "output_type": "stream",
     "text": [
      "\n",
      "--- Processing Log ---\n",
      "All files processed successfully.\n",
      "----------------------\n"
     ]
    },
    {
     "name": "stderr",
     "output_type": "stream",
     "text": [
      "Processing Trials: 100%|██████████| 2322/2322 [00:00<00:00, 2564.01it/s]\n"
     ]
    },
    {
     "name": "stdout",
     "output_type": "stream",
     "text": [
      "Processing for RFMapping_0 complete. Files saved in /home/tony/Halluci-Nations/scratch/ecephys_729461_2024-06-10_12-51-54_nwb_2025-08-03_21-11-22/RFMapping_0/raw\n",
      "Starting parallel processing with 16 cores...\n"
     ]
    },
    {
     "name": "stderr",
     "output_type": "stream",
     "text": [
      "100%|██████████| 2322/2322 [00:04<00:00, 490.43it/s]\n"
     ]
    },
    {
     "name": "stdout",
     "output_type": "stream",
     "text": [
      "\n",
      "--- Processing Log ---\n",
      "All files processed successfully.\n",
      "----------------------\n"
     ]
    },
    {
     "name": "stderr",
     "output_type": "stream",
     "text": [
      "Processing Trials: 100%|██████████| 2322/2322 [00:00<00:00, 2419.57it/s]\n"
     ]
    },
    {
     "name": "stdout",
     "output_type": "stream",
     "text": [
      "Processing for RFMapping_1 complete. Files saved in /home/tony/Halluci-Nations/scratch/ecephys_729461_2024-06-10_12-51-54_nwb_2025-08-03_21-11-22/RFMapping_1/raw\n",
      "Starting parallel processing with 16 cores...\n"
     ]
    },
    {
     "name": "stderr",
     "output_type": "stream",
     "text": [
      "100%|██████████| 2322/2322 [00:04<00:00, 483.18it/s]\n"
     ]
    },
    {
     "name": "stdout",
     "output_type": "stream",
     "text": [
      "\n",
      "--- Processing Log ---\n",
      "All files processed successfully.\n",
      "----------------------\n"
     ]
    },
    {
     "name": "stderr",
     "output_type": "stream",
     "text": [
      "Processing Trials: 100%|██████████| 2322/2322 [00:01<00:00, 2299.61it/s]\n"
     ]
    },
    {
     "name": "stdout",
     "output_type": "stream",
     "text": [
      "Processing for RFMapping_2 complete. Files saved in /home/tony/Halluci-Nations/scratch/ecephys_729461_2024-06-10_12-51-54_nwb_2025-08-03_21-11-22/RFMapping_2/raw\n",
      "Starting parallel processing with 16 cores...\n"
     ]
    },
    {
     "name": "stderr",
     "output_type": "stream",
     "text": [
      "100%|██████████| 2322/2322 [00:04<00:00, 485.17it/s]\n"
     ]
    },
    {
     "name": "stdout",
     "output_type": "stream",
     "text": [
      "\n",
      "--- Processing Log ---\n",
      "All files processed successfully.\n",
      "----------------------\n"
     ]
    },
    {
     "name": "stderr",
     "output_type": "stream",
     "text": [
      "Processing Trials: 100%|██████████| 1161/1161 [00:00<00:00, 3432.89it/s]\n"
     ]
    },
    {
     "name": "stdout",
     "output_type": "stream",
     "text": [
      "Processing for RFMapping_3 complete. Files saved in /home/tony/Halluci-Nations/scratch/ecephys_729461_2024-06-10_12-51-54_nwb_2025-08-03_21-11-22/RFMapping_3/raw\n",
      "Starting parallel processing with 16 cores...\n"
     ]
    },
    {
     "name": "stderr",
     "output_type": "stream",
     "text": [
      "100%|██████████| 1161/1161 [00:02<00:00, 510.40it/s]\n"
     ]
    },
    {
     "name": "stdout",
     "output_type": "stream",
     "text": [
      "\n",
      "--- Processing Log ---\n",
      "All files processed successfully.\n",
      "----------------------\n"
     ]
    },
    {
     "name": "stderr",
     "output_type": "stream",
     "text": [
      "Processing Trials: 100%|██████████| 2322/2322 [00:01<00:00, 1915.79it/s]\n"
     ]
    },
    {
     "name": "stdout",
     "output_type": "stream",
     "text": [
      "Processing for RFMapping_0 complete. Files saved in /home/tony/Halluci-Nations/scratch/ecephys_717036_2024-06-07_12-00-57_nwb_2025-08-03_21-11-22/RFMapping_0/raw\n",
      "Starting parallel processing with 16 cores...\n"
     ]
    },
    {
     "name": "stderr",
     "output_type": "stream",
     "text": [
      "100%|██████████| 2322/2322 [00:05<00:00, 418.61it/s]\n"
     ]
    },
    {
     "name": "stdout",
     "output_type": "stream",
     "text": [
      "\n",
      "--- Processing Log ---\n",
      "All files processed successfully.\n",
      "----------------------\n"
     ]
    },
    {
     "name": "stderr",
     "output_type": "stream",
     "text": [
      "Processing Trials: 100%|██████████| 2322/2322 [00:01<00:00, 1839.97it/s]\n"
     ]
    },
    {
     "name": "stdout",
     "output_type": "stream",
     "text": [
      "Processing for RFMapping_1 complete. Files saved in /home/tony/Halluci-Nations/scratch/ecephys_717036_2024-06-07_12-00-57_nwb_2025-08-03_21-11-22/RFMapping_1/raw\n",
      "Starting parallel processing with 16 cores...\n"
     ]
    },
    {
     "name": "stderr",
     "output_type": "stream",
     "text": [
      "100%|██████████| 2322/2322 [00:05<00:00, 419.85it/s]\n"
     ]
    },
    {
     "name": "stdout",
     "output_type": "stream",
     "text": [
      "\n",
      "--- Processing Log ---\n",
      "All files processed successfully.\n",
      "----------------------\n"
     ]
    },
    {
     "name": "stderr",
     "output_type": "stream",
     "text": [
      "Processing Trials: 100%|██████████| 2322/2322 [00:01<00:00, 1660.55it/s]\n"
     ]
    },
    {
     "name": "stdout",
     "output_type": "stream",
     "text": [
      "Processing for RFMapping_2 complete. Files saved in /home/tony/Halluci-Nations/scratch/ecephys_717036_2024-06-07_12-00-57_nwb_2025-08-03_21-11-22/RFMapping_2/raw\n",
      "Starting parallel processing with 16 cores...\n"
     ]
    },
    {
     "name": "stderr",
     "output_type": "stream",
     "text": [
      "100%|██████████| 2322/2322 [00:05<00:00, 414.33it/s]\n"
     ]
    },
    {
     "name": "stdout",
     "output_type": "stream",
     "text": [
      "\n",
      "--- Processing Log ---\n",
      "All files processed successfully.\n",
      "----------------------\n"
     ]
    },
    {
     "name": "stderr",
     "output_type": "stream",
     "text": [
      "Processing Trials: 100%|██████████| 2322/2322 [00:00<00:00, 4161.73it/s]\n"
     ]
    },
    {
     "name": "stdout",
     "output_type": "stream",
     "text": [
      "Processing for RFMapping_0 complete. Files saved in /home/tony/Halluci-Nations/scratch/ecephys_714527_2024-05-14_13-22-07_nwb_2025-08-03_21-11-22/RFMapping_0/raw\n",
      "Starting parallel processing with 16 cores...\n"
     ]
    },
    {
     "name": "stderr",
     "output_type": "stream",
     "text": [
      "100%|██████████| 2322/2322 [00:02<00:00, 847.81it/s]\n"
     ]
    },
    {
     "name": "stdout",
     "output_type": "stream",
     "text": [
      "\n",
      "--- Processing Log ---\n",
      "All files processed successfully.\n",
      "----------------------\n"
     ]
    },
    {
     "name": "stderr",
     "output_type": "stream",
     "text": [
      "Processing Trials: 100%|██████████| 2322/2322 [00:00<00:00, 3730.83it/s]\n"
     ]
    },
    {
     "name": "stdout",
     "output_type": "stream",
     "text": [
      "Processing for RFMapping_1 complete. Files saved in /home/tony/Halluci-Nations/scratch/ecephys_714527_2024-05-14_13-22-07_nwb_2025-08-03_21-11-22/RFMapping_1/raw\n",
      "Starting parallel processing with 16 cores...\n"
     ]
    },
    {
     "name": "stderr",
     "output_type": "stream",
     "text": [
      "100%|██████████| 2322/2322 [00:02<00:00, 825.71it/s]\n"
     ]
    },
    {
     "name": "stdout",
     "output_type": "stream",
     "text": [
      "\n",
      "--- Processing Log ---\n",
      "All files processed successfully.\n",
      "----------------------\n"
     ]
    },
    {
     "name": "stderr",
     "output_type": "stream",
     "text": [
      "Processing Trials: 100%|██████████| 2322/2322 [00:00<00:00, 3297.57it/s]\n"
     ]
    },
    {
     "name": "stdout",
     "output_type": "stream",
     "text": [
      "Processing for RFMapping_2 complete. Files saved in /home/tony/Halluci-Nations/scratch/ecephys_714527_2024-05-14_13-22-07_nwb_2025-08-03_21-11-22/RFMapping_2/raw\n",
      "Starting parallel processing with 16 cores...\n"
     ]
    },
    {
     "name": "stderr",
     "output_type": "stream",
     "text": [
      "100%|██████████| 2322/2322 [00:02<00:00, 816.04it/s]\n"
     ]
    },
    {
     "name": "stdout",
     "output_type": "stream",
     "text": [
      "\n",
      "--- Processing Log ---\n",
      "All files processed successfully.\n",
      "----------------------\n"
     ]
    },
    {
     "name": "stderr",
     "output_type": "stream",
     "text": [
      "Processing Trials: 100%|██████████| 1161/1161 [00:00<00:00, 6213.32it/s]\n"
     ]
    },
    {
     "name": "stdout",
     "output_type": "stream",
     "text": [
      "Processing for RFMapping_3 complete. Files saved in /home/tony/Halluci-Nations/scratch/ecephys_714527_2024-05-14_13-22-07_nwb_2025-08-03_21-11-22/RFMapping_3/raw\n",
      "Starting parallel processing with 16 cores...\n"
     ]
    },
    {
     "name": "stderr",
     "output_type": "stream",
     "text": [
      "100%|██████████| 1161/1161 [00:01<00:00, 893.35it/s]\n"
     ]
    },
    {
     "name": "stdout",
     "output_type": "stream",
     "text": [
      "\n",
      "--- Processing Log ---\n",
      "All files processed successfully.\n",
      "----------------------\n"
     ]
    }
   ],
   "source": [
    "for main_path in os.listdir(dat_spike_paths):\n",
    "    try:\n",
    "        main_path = os.path.join(dat_spike_paths,main_path)\n",
    "        time_res = 0.01\n",
    "        bin_size = time_res\n",
    "        data_path = os.path.join(main_path,'data.pkl')\n",
    "        epoch_path = os.path.join(main_path,'epochs.pkl')\n",
    "        photostim_path = os.path.join(main_path,'photostim.pkl')\n",
    "        visualstim_path = os.path.join(main_path,'visualstim.pkl')\n",
    "        df_data = pd.read_pickle(data_path)\n",
    "        df_epoch = pd.read_pickle(epoch_path)\n",
    "        df_photostim = pd.read_pickle(photostim_path)\n",
    "        df_visualstim = pd.read_pickle(visualstim_path)\n",
    "        stims_eps = [i for i in df_epoch['stim_name'] if 'RFMapping' in i]\n",
    "        for stim_ep in stims_eps:\n",
    "            df_map_save  =  f'{main_path}/{stim_ep}/'\n",
    "            stim_ep_path = f'{df_map_save}raw'\n",
    "            save_path = f'{main_path}/{stim_ep}/firing_rate2'\n",
    "            df_interest = datrac.update_stim_eps_end_time(df_visualstim,stim_ep)\n",
    "            datrac.extract_spikes_times_parallel_optimized(df_data,df_interest, stim_ep, main_path)\n",
    "            datrac.parallel_bin_spikes(stim_ep_path, save_path, time_res, num_processes=None)\n",
    "            df_interest.to_csv(os.path.join(df_map_save,'trial_info.csv'))\n",
    "    except Exception as e:\n",
    "        pass"
   ]
  },
  {
   "cell_type": "code",
   "execution_count": null,
   "id": "739b399e",
   "metadata": {},
   "outputs": [],
   "source": []
  }
 ],
 "metadata": {
  "kernelspec": {
   "display_name": "brainsformer",
   "language": "python",
   "name": "python3"
  },
  "language_info": {
   "codemirror_mode": {
    "name": "ipython",
    "version": 3
   },
   "file_extension": ".py",
   "mimetype": "text/x-python",
   "name": "python",
   "nbconvert_exporter": "python",
   "pygments_lexer": "ipython3",
   "version": "3.10.18"
  }
 },
 "nbformat": 4,
 "nbformat_minor": 5
}
