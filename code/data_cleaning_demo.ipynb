{
 "cells": [
  {
   "cell_type": "code",
   "execution_count": 1,
   "id": "946cf14d-9352-44c3-b286-2f84c4bab5e0",
   "metadata": {
    "tags": []
   },
   "outputs": [],
   "source": [
    "import os\n",
    "import pandas as pd \n",
    "import pickle\n",
    "from tqdm import tqdm \n",
    "import data_extraction as datrac"
   ]
  },
  {
   "cell_type": "code",
   "execution_count": 2,
   "id": "4b5c0f93-14c2-4a7a-958c-0da16e145352",
   "metadata": {
    "tags": []
   },
   "outputs": [],
   "source": [
    "main_path = '/scratch/'\n",
    "time_res = 0.05\n",
    "data_path = os.path.join(main_path,'data.pkl')\n",
    "epoch_path = os.path.join(main_path,'epochs.pkl')\n",
    "photostim_path = os.path.join(main_path,'photostim.pkl')\n",
    "visualstim_path = os.path.join(main_path,'visualstim.pkl')"
   ]
  },
  {
   "cell_type": "code",
   "execution_count": 4,
   "id": "4d44dcd0-c949-432c-b9ed-acac7809a2e3",
   "metadata": {
    "tags": []
   },
   "outputs": [],
   "source": [
    "df_data = pd.read_pickle(data_path)\n",
    "df_epoch = pd.read_pickle(epoch_path)\n",
    "df_photostim = pd.read_pickle(photostim_path)\n",
    "df_visualstim = pd.read_pickle(visualstim_path)"
   ]
  },
  {
   "cell_type": "code",
   "execution_count": 7,
   "id": "a1403fe9-d629-406c-9e7b-542f12cbcc43",
   "metadata": {},
   "outputs": [
    {
     "name": "stderr",
     "output_type": "stream",
     "text": [
      "Processing Trials: 100%|██████████| 2322/2322 [00:25<00:00, 91.56it/s]\n"
     ]
    },
    {
     "name": "stdout",
     "output_type": "stream",
     "text": [
      "Processing for RFMapping_2 complete. Files saved in /scratch/RFMapping_2/raw\n",
      "Starting parallel processing with 16 cores...\n"
     ]
    },
    {
     "name": "stderr",
     "output_type": "stream",
     "text": [
      "100%|██████████| 2322/2322 [00:22<00:00, 104.38it/s]\n"
     ]
    },
    {
     "name": "stdout",
     "output_type": "stream",
     "text": [
      "\n",
      "--- Processing Log ---\n",
      "All files processed successfully.\n",
      "----------------------\n"
     ]
    }
   ],
   "source": [
    "# extract the timging for each events\n",
    "stim_ep = 'RFMapping_2'\n",
    "df_map_save  =  f'/scratch/{stim_ep}/'\n",
    "stim_ep_path = f'{df_map_save}raw'\n",
    "save_path = f'/scratch/{stim_ep}/firing_rate2'\n",
    "df_interest = datrac.update_stim_eps_end_time(df_visualstim,stim_ep)\n",
    "datrac.extract_spikes_times_parallel_optimized(df_data,df_interest, stim_ep, main_path)\n",
    "df_interest.to_csv(os.path.join(df_map_save,'trial_info.csv'))\n",
    "datrac.parallel_bin_spikes(stim_ep_path, save_path, time_res, num_processes=None)"
   ]
  },
  {
   "cell_type": "code",
   "execution_count": null,
   "id": "8eeba0f8-a476-452d-8274-4d161ff98ece",
   "metadata": {},
   "outputs": [],
   "source": []
  }
 ],
 "metadata": {
  "kernelspec": {
   "display_name": "Python 3 (ipykernel)",
   "language": "python",
   "name": "python3"
  },
  "language_info": {
   "codemirror_mode": {
    "name": "ipython",
    "version": 3
   },
   "file_extension": ".py",
   "mimetype": "text/x-python",
   "name": "python",
   "nbconvert_exporter": "python",
   "pygments_lexer": "ipython3",
   "version": "3.10.12"
  }
 },
 "nbformat": 4,
 "nbformat_minor": 5
}
