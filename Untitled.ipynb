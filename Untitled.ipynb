{
 "cells": [
  {
   "cell_type": "code",
   "execution_count": 1,
   "id": "9e112490-3544-4779-850b-b13d936a770b",
   "metadata": {
    "tags": []
   },
   "outputs": [],
   "source": [
    "import os\n",
    "from pathlib import Path\n",
    "import numpy as np\n",
    "import pandas as pd \n",
    "import matplotlib.pyplot as plt\n",
    "import seaborn as sns\n",
    "import pickle\n",
    "from tqdm import tqdm \n",
    "from matplotlib.lines import Line2D\n",
    "from concurrent.futures import ProcessPoolExecutor, as_completed\n",
    "from multiprocessing import Pool, cpu_count\n",
    "from sklearn.preprocessing import StandardScaler\n",
    "\n",
    "pd.set_option('display.max_rows', None)\n",
    "pd.set_option('display.max_columns', None)"
   ]
  },
  {
   "cell_type": "code",
   "execution_count": null,
   "id": "ebb1b73e-05a2-4a0d-bff6-177e918062f1",
   "metadata": {},
   "outputs": [],
   "source": []
  },
  {
   "cell_type": "code",
   "execution_count": null,
   "id": "bbb6f31d-f0a3-41a6-894d-8cf41176221d",
   "metadata": {},
   "outputs": [],
   "source": []
  },
  {
   "cell_type": "code",
   "execution_count": null,
   "id": "d9b203e9-7d54-4dc8-8e83-edb302d31008",
   "metadata": {},
   "outputs": [],
   "source": [
    "test = np.load('/scratch/RFMapping_0/firing_rate2/trial_array_0.npz')['arr_0']"
   ]
  },
  {
   "cell_type": "code",
   "execution_count": null,
   "id": "e8d5a3c2-45a6-400c-aa13-9cdab27e9161",
   "metadata": {},
   "outputs": [],
   "source": [
    "scaler = StandardScaler()\n",
    "test_T = test.T \n",
    "z_scored_data_T = scaler.fit_transform(test_T)\n",
    "z_scored_data = z_scored_data_T.T\n",
    "print(f\"Final Z-scored data shape: {z_scored_data.shape}\")\n",
    "# The mean of each neuron (each row) should now be ~0\n",
    "# The standard deviation of each neuron (each row) should now be ~1\n",
    "print(f\"New mean of Neuron 0: {z_scored_data[0, :].mean():.2f}\") # Should be ~0.00\n",
    "print(f\"New std of Neuron 0: {z_scored_data[0, :].std():.2f}\")   # Should be ~1.00\n",
    "\n",
    "# You can check for all neurons at once\n",
    "# axis=1 calculates the mean/std across the time series for each neuron\n",
    "all_means = z_scored_data.mean(axis=1)\n",
    "all_stds = z_scored_data.std(axis=1)\n",
    "\n",
    "print(\"\\nMeans of all neurons after Z-scoring:\")\n",
    "print(np.round(all_means, 2))\n",
    "print(\"\\nStandard deviations of all neurons after Z-scoring:\")\n",
    "print(np.round(all_stds, 2))"
   ]
  }
 ],
 "metadata": {
  "kernelspec": {
   "display_name": "Python 3 (ipykernel)",
   "language": "python",
   "name": "python3"
  },
  "language_info": {
   "codemirror_mode": {
    "name": "ipython",
    "version": 3
   },
   "file_extension": ".py",
   "mimetype": "text/x-python",
   "name": "python",
   "nbconvert_exporter": "python",
   "pygments_lexer": "ipython3",
   "version": "3.10.12"
  }
 },
 "nbformat": 4,
 "nbformat_minor": 5
}
